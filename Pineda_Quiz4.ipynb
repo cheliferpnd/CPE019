{
  "nbformat": 4,
  "nbformat_minor": 0,
  "metadata": {
    "colab": {
      "provenance": []
    },
    "kernelspec": {
      "name": "python3",
      "display_name": "Python 3"
    },
    "language_info": {
      "name": "python"
    }
  },
  "cells": [
    {
      "cell_type": "code",
      "source": [
        "#Write a Python program using Pandas to select the rows the score is between 15 and 20 (inclusive).\n",
        "\n",
        "import numpy as np\n",
        "import pandas as pd\n",
        "\n",
        "exam_data = {'name': ['Anastasia', 'Dima', 'Katherine', 'James', 'Emily', 'Michael', 'Matthew', 'Laura', 'Kevin', 'Jonas'],\n",
        "            'score': [12.5, 9, 16.5, np.nan, 9, 20, 14.5, np.nan, 8, 19],\n",
        "            'attempts': [1, 3, 2, 3, 2, 3, 1, 1, 2, 1],\n",
        "            'qualify': ['yes', 'no', 'yes', 'no', 'no', 'yes', 'yes', 'no', 'no', 'yes']}\n",
        "\n",
        "labels = ['a', 'b', 'c', 'd', 'e', 'f', 'g', 'h', 'i', 'j']\n",
        "\n",
        "df = pd.DataFrame(exam_data , index=labels)\n",
        "print(\"Score that is between 15 and 20\")\n",
        "print(df[df['score'].between(15, 20)])\n",
        "\n"
      ],
      "metadata": {
        "id": "Nt8drNEJxtUC",
        "colab": {
          "base_uri": "https://localhost:8080/"
        },
        "outputId": "764c2467-35f1-4cbe-ec59-ffc51bd22a66"
      },
      "execution_count": 3,
      "outputs": [
        {
          "output_type": "stream",
          "name": "stdout",
          "text": [
            "Score that is between 15 and 20\n",
            "        name  score  attempts qualify\n",
            "c  Katherine   16.5         2     yes\n",
            "f    Michael   20.0         3     yes\n",
            "j      Jonas   19.0         1     yes\n"
          ]
        }
      ]
    }
  ]
}