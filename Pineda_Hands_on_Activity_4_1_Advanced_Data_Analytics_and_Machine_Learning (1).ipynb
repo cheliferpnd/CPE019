{
  "nbformat": 4,
  "nbformat_minor": 0,
  "metadata": {
    "colab": {
      "provenance": []
    },
    "kernelspec": {
      "name": "python3",
      "display_name": "Python 3"
    },
    "language_info": {
      "name": "python"
    }
  },
  "cells": [
    {
      "cell_type": "markdown",
      "source": [
        "\n",
        "| <h1> Hands-on Activity 4.1 </h1> | <h1> Advanced Data Analytics and Machine Learning </h1> |\n",
        "|--- | --- |\n",
        "Name: Pineda, Rachel Joy D.<br>\n",
        "Course and Section:  CPE019-CPE32S3 <br>\n",
        "Date of Submission: February 21, 2024<br>\n",
        "Instructor: Engr. Roman Richard<br>\n",
        "\n",
        "<hr>"
      ],
      "metadata": {
        "id": "EHjYSK8oKMEH"
      }
    },
    {
      "cell_type": "markdown",
      "source": [
        "##Lab - Decision Tree Classification\n",
        "\n",
        "#Objectives\n",
        "In this lab, you will use a decision tree classifier model to determine who survived the Titanic cruise ship disaster.\n",
        "\n",
        "* **Part 1: Create a Decision Tree Classifier**\n",
        "\n",
        "* **Part 2: Apply the Decison Tree Model**\n",
        "\n",
        "* **Part 3: Evaluate the Decison Tree Model**"
      ],
      "metadata": {
        "id": "jpiA7Fobektj"
      }
    },
    {
      "cell_type": "markdown",
      "source": [
        "#Scenario / Background\n",
        "\n",
        "In this lab you will create a decision tree classifier that will work with a data set which contains the details about\n",
        "the more than 1300 hundred passengers who were onboard the passenger liner Titanic on its infamous maiden\n",
        "voyage.\n"
      ],
      "metadata": {
        "id": "SSBn0m7Ce6FD"
      }
    },
    {
      "cell_type": "markdown",
      "source": [
        "#Required Resources\n",
        "\n",
        "* 1 PC with Internet access\n",
        "* Python libraries: pandas, sklearn, and IPython.display\n",
        "* Additonal application: Graphviz\n",
        "* Datafiles: titanic-train.csv, titanic-test.csv, titanic_all.csv\n"
      ],
      "metadata": {
        "id": "5uaVJ5rHe800"
      }
    },
    {
      "cell_type": "markdown",
      "source": [],
      "metadata": {
        "id": "SpJm1fzAWoh2"
      }
    },
    {
      "cell_type": "markdown",
      "source": [
        "## **Part 1: Create a Decision Tree Classifier**"
      ],
      "metadata": {
        "id": "m3DOf8ycfRlK"
      }
    },
    {
      "cell_type": "markdown",
      "source": [
        "#Import the Libraries and Data"
      ],
      "metadata": {
        "id": "PoZLz0Ufaklb"
      }
    },
    {
      "cell_type": "code",
      "source": [
        "import numpy as np\n",
        "import pandas as pd\n",
        "from matplotlib import pyplot as plt\n",
        "import seaborn as sns\n"
      ],
      "metadata": {
        "id": "KRSgMZnyag2g"
      },
      "execution_count": null,
      "outputs": []
    },
    {
      "cell_type": "code",
      "source": [
        "test = '/content/titanic_test.csv'\n",
        "train = '/content/titanic_train.csv'"
      ],
      "metadata": {
        "id": "0CsXwd_ibn2_"
      },
      "execution_count": null,
      "outputs": []
    },
    {
      "cell_type": "code",
      "source": [
        "test = pd.read_csv(testFile, sep= \"\\t\")\n",
        "train = pd.read_csv(trainFile, sep= \"\\t\")"
      ],
      "metadata": {
        "id": "TcV-Stf0buQ3"
      },
      "execution_count": null,
      "outputs": []
    },
    {
      "cell_type": "code",
      "source": [
        "test.head()\n",
        "train.head()"
      ],
      "metadata": {
        "colab": {
          "base_uri": "https://localhost:8080/",
          "height": 206
        },
        "id": "tWJhbSK3bvYM",
        "outputId": "1916efa4-215b-42d4-f5b7-a3370d1259e0"
      },
      "execution_count": null,
      "outputs": [
        {
          "output_type": "execute_result",
          "data": {
            "text/plain": [
              "  PassengerId,Survived,Pclass,Name,Sex,Age,SibSp,Parch,Ticket,Fare,Cabin,Embarked\n",
              "0  1,0,3,\"Braund, Mr. Owen Harris\",male,22,1,0,A/...                             \n",
              "1  2,1,1,\"Cumings, Mrs. John Bradley (Florence Br...                             \n",
              "2  3,1,3,\"Heikkinen, Miss. Laina\",female,26,0,0,S...                             \n",
              "3  4,1,1,\"Futrelle, Mrs. Jacques Heath (Lily May ...                             \n",
              "4  5,0,3,\"Allen, Mr. William Henry\",male,35,0,0,3...                             "
            ],
            "text/html": [
              "\n",
              "  <div id=\"df-b73912bf-4d19-4ac9-bddc-1565a19ebb61\" class=\"colab-df-container\">\n",
              "    <div>\n",
              "<style scoped>\n",
              "    .dataframe tbody tr th:only-of-type {\n",
              "        vertical-align: middle;\n",
              "    }\n",
              "\n",
              "    .dataframe tbody tr th {\n",
              "        vertical-align: top;\n",
              "    }\n",
              "\n",
              "    .dataframe thead th {\n",
              "        text-align: right;\n",
              "    }\n",
              "</style>\n",
              "<table border=\"1\" class=\"dataframe\">\n",
              "  <thead>\n",
              "    <tr style=\"text-align: right;\">\n",
              "      <th></th>\n",
              "      <th>PassengerId,Survived,Pclass,Name,Sex,Age,SibSp,Parch,Ticket,Fare,Cabin,Embarked</th>\n",
              "    </tr>\n",
              "  </thead>\n",
              "  <tbody>\n",
              "    <tr>\n",
              "      <th>0</th>\n",
              "      <td>1,0,3,\"Braund, Mr. Owen Harris\",male,22,1,0,A/...</td>\n",
              "    </tr>\n",
              "    <tr>\n",
              "      <th>1</th>\n",
              "      <td>2,1,1,\"Cumings, Mrs. John Bradley (Florence Br...</td>\n",
              "    </tr>\n",
              "    <tr>\n",
              "      <th>2</th>\n",
              "      <td>3,1,3,\"Heikkinen, Miss. Laina\",female,26,0,0,S...</td>\n",
              "    </tr>\n",
              "    <tr>\n",
              "      <th>3</th>\n",
              "      <td>4,1,1,\"Futrelle, Mrs. Jacques Heath (Lily May ...</td>\n",
              "    </tr>\n",
              "    <tr>\n",
              "      <th>4</th>\n",
              "      <td>5,0,3,\"Allen, Mr. William Henry\",male,35,0,0,3...</td>\n",
              "    </tr>\n",
              "  </tbody>\n",
              "</table>\n",
              "</div>\n",
              "    <div class=\"colab-df-buttons\">\n",
              "\n",
              "  <div class=\"colab-df-container\">\n",
              "    <button class=\"colab-df-convert\" onclick=\"convertToInteractive('df-b73912bf-4d19-4ac9-bddc-1565a19ebb61')\"\n",
              "            title=\"Convert this dataframe to an interactive table.\"\n",
              "            style=\"display:none;\">\n",
              "\n",
              "  <svg xmlns=\"http://www.w3.org/2000/svg\" height=\"24px\" viewBox=\"0 -960 960 960\">\n",
              "    <path d=\"M120-120v-720h720v720H120Zm60-500h600v-160H180v160Zm220 220h160v-160H400v160Zm0 220h160v-160H400v160ZM180-400h160v-160H180v160Zm440 0h160v-160H620v160ZM180-180h160v-160H180v160Zm440 0h160v-160H620v160Z\"/>\n",
              "  </svg>\n",
              "    </button>\n",
              "\n",
              "  <style>\n",
              "    .colab-df-container {\n",
              "      display:flex;\n",
              "      gap: 12px;\n",
              "    }\n",
              "\n",
              "    .colab-df-convert {\n",
              "      background-color: #E8F0FE;\n",
              "      border: none;\n",
              "      border-radius: 50%;\n",
              "      cursor: pointer;\n",
              "      display: none;\n",
              "      fill: #1967D2;\n",
              "      height: 32px;\n",
              "      padding: 0 0 0 0;\n",
              "      width: 32px;\n",
              "    }\n",
              "\n",
              "    .colab-df-convert:hover {\n",
              "      background-color: #E2EBFA;\n",
              "      box-shadow: 0px 1px 2px rgba(60, 64, 67, 0.3), 0px 1px 3px 1px rgba(60, 64, 67, 0.15);\n",
              "      fill: #174EA6;\n",
              "    }\n",
              "\n",
              "    .colab-df-buttons div {\n",
              "      margin-bottom: 4px;\n",
              "    }\n",
              "\n",
              "    [theme=dark] .colab-df-convert {\n",
              "      background-color: #3B4455;\n",
              "      fill: #D2E3FC;\n",
              "    }\n",
              "\n",
              "    [theme=dark] .colab-df-convert:hover {\n",
              "      background-color: #434B5C;\n",
              "      box-shadow: 0px 1px 3px 1px rgba(0, 0, 0, 0.15);\n",
              "      filter: drop-shadow(0px 1px 2px rgba(0, 0, 0, 0.3));\n",
              "      fill: #FFFFFF;\n",
              "    }\n",
              "  </style>\n",
              "\n",
              "    <script>\n",
              "      const buttonEl =\n",
              "        document.querySelector('#df-b73912bf-4d19-4ac9-bddc-1565a19ebb61 button.colab-df-convert');\n",
              "      buttonEl.style.display =\n",
              "        google.colab.kernel.accessAllowed ? 'block' : 'none';\n",
              "\n",
              "      async function convertToInteractive(key) {\n",
              "        const element = document.querySelector('#df-b73912bf-4d19-4ac9-bddc-1565a19ebb61');\n",
              "        const dataTable =\n",
              "          await google.colab.kernel.invokeFunction('convertToInteractive',\n",
              "                                                    [key], {});\n",
              "        if (!dataTable) return;\n",
              "\n",
              "        const docLinkHtml = 'Like what you see? Visit the ' +\n",
              "          '<a target=\"_blank\" href=https://colab.research.google.com/notebooks/data_table.ipynb>data table notebook</a>'\n",
              "          + ' to learn more about interactive tables.';\n",
              "        element.innerHTML = '';\n",
              "        dataTable['output_type'] = 'display_data';\n",
              "        await google.colab.output.renderOutput(dataTable, element);\n",
              "        const docLink = document.createElement('div');\n",
              "        docLink.innerHTML = docLinkHtml;\n",
              "        element.appendChild(docLink);\n",
              "      }\n",
              "    </script>\n",
              "  </div>\n",
              "\n",
              "\n",
              "<div id=\"df-970c7aa0-844f-49e6-84f4-d6347fc39f4a\">\n",
              "  <button class=\"colab-df-quickchart\" onclick=\"quickchart('df-970c7aa0-844f-49e6-84f4-d6347fc39f4a')\"\n",
              "            title=\"Suggest charts\"\n",
              "            style=\"display:none;\">\n",
              "\n",
              "<svg xmlns=\"http://www.w3.org/2000/svg\" height=\"24px\"viewBox=\"0 0 24 24\"\n",
              "     width=\"24px\">\n",
              "    <g>\n",
              "        <path d=\"M19 3H5c-1.1 0-2 .9-2 2v14c0 1.1.9 2 2 2h14c1.1 0 2-.9 2-2V5c0-1.1-.9-2-2-2zM9 17H7v-7h2v7zm4 0h-2V7h2v10zm4 0h-2v-4h2v4z\"/>\n",
              "    </g>\n",
              "</svg>\n",
              "  </button>\n",
              "\n",
              "<style>\n",
              "  .colab-df-quickchart {\n",
              "      --bg-color: #E8F0FE;\n",
              "      --fill-color: #1967D2;\n",
              "      --hover-bg-color: #E2EBFA;\n",
              "      --hover-fill-color: #174EA6;\n",
              "      --disabled-fill-color: #AAA;\n",
              "      --disabled-bg-color: #DDD;\n",
              "  }\n",
              "\n",
              "  [theme=dark] .colab-df-quickchart {\n",
              "      --bg-color: #3B4455;\n",
              "      --fill-color: #D2E3FC;\n",
              "      --hover-bg-color: #434B5C;\n",
              "      --hover-fill-color: #FFFFFF;\n",
              "      --disabled-bg-color: #3B4455;\n",
              "      --disabled-fill-color: #666;\n",
              "  }\n",
              "\n",
              "  .colab-df-quickchart {\n",
              "    background-color: var(--bg-color);\n",
              "    border: none;\n",
              "    border-radius: 50%;\n",
              "    cursor: pointer;\n",
              "    display: none;\n",
              "    fill: var(--fill-color);\n",
              "    height: 32px;\n",
              "    padding: 0;\n",
              "    width: 32px;\n",
              "  }\n",
              "\n",
              "  .colab-df-quickchart:hover {\n",
              "    background-color: var(--hover-bg-color);\n",
              "    box-shadow: 0 1px 2px rgba(60, 64, 67, 0.3), 0 1px 3px 1px rgba(60, 64, 67, 0.15);\n",
              "    fill: var(--button-hover-fill-color);\n",
              "  }\n",
              "\n",
              "  .colab-df-quickchart-complete:disabled,\n",
              "  .colab-df-quickchart-complete:disabled:hover {\n",
              "    background-color: var(--disabled-bg-color);\n",
              "    fill: var(--disabled-fill-color);\n",
              "    box-shadow: none;\n",
              "  }\n",
              "\n",
              "  .colab-df-spinner {\n",
              "    border: 2px solid var(--fill-color);\n",
              "    border-color: transparent;\n",
              "    border-bottom-color: var(--fill-color);\n",
              "    animation:\n",
              "      spin 1s steps(1) infinite;\n",
              "  }\n",
              "\n",
              "  @keyframes spin {\n",
              "    0% {\n",
              "      border-color: transparent;\n",
              "      border-bottom-color: var(--fill-color);\n",
              "      border-left-color: var(--fill-color);\n",
              "    }\n",
              "    20% {\n",
              "      border-color: transparent;\n",
              "      border-left-color: var(--fill-color);\n",
              "      border-top-color: var(--fill-color);\n",
              "    }\n",
              "    30% {\n",
              "      border-color: transparent;\n",
              "      border-left-color: var(--fill-color);\n",
              "      border-top-color: var(--fill-color);\n",
              "      border-right-color: var(--fill-color);\n",
              "    }\n",
              "    40% {\n",
              "      border-color: transparent;\n",
              "      border-right-color: var(--fill-color);\n",
              "      border-top-color: var(--fill-color);\n",
              "    }\n",
              "    60% {\n",
              "      border-color: transparent;\n",
              "      border-right-color: var(--fill-color);\n",
              "    }\n",
              "    80% {\n",
              "      border-color: transparent;\n",
              "      border-right-color: var(--fill-color);\n",
              "      border-bottom-color: var(--fill-color);\n",
              "    }\n",
              "    90% {\n",
              "      border-color: transparent;\n",
              "      border-bottom-color: var(--fill-color);\n",
              "    }\n",
              "  }\n",
              "</style>\n",
              "\n",
              "  <script>\n",
              "    async function quickchart(key) {\n",
              "      const quickchartButtonEl =\n",
              "        document.querySelector('#' + key + ' button');\n",
              "      quickchartButtonEl.disabled = true;  // To prevent multiple clicks.\n",
              "      quickchartButtonEl.classList.add('colab-df-spinner');\n",
              "      try {\n",
              "        const charts = await google.colab.kernel.invokeFunction(\n",
              "            'suggestCharts', [key], {});\n",
              "      } catch (error) {\n",
              "        console.error('Error during call to suggestCharts:', error);\n",
              "      }\n",
              "      quickchartButtonEl.classList.remove('colab-df-spinner');\n",
              "      quickchartButtonEl.classList.add('colab-df-quickchart-complete');\n",
              "    }\n",
              "    (() => {\n",
              "      let quickchartButtonEl =\n",
              "        document.querySelector('#df-970c7aa0-844f-49e6-84f4-d6347fc39f4a button');\n",
              "      quickchartButtonEl.style.display =\n",
              "        google.colab.kernel.accessAllowed ? 'block' : 'none';\n",
              "    })();\n",
              "  </script>\n",
              "</div>\n",
              "    </div>\n",
              "  </div>\n"
            ],
            "application/vnd.google.colaboratory.intrinsic+json": {
              "type": "dataframe",
              "variable_name": "trainFrame",
              "summary": "{\n  \"name\": \"trainFrame\",\n  \"rows\": 891,\n  \"fields\": [\n    {\n      \"column\": \"PassengerId,Survived,Pclass,Name,Sex,Age,SibSp,Parch,Ticket,Fare,Cabin,Embarked\",\n      \"properties\": {\n        \"dtype\": \"string\",\n        \"num_unique_values\": 891,\n        \"samples\": [\n          \"710,1,3,\\\"Moubarek, Master. Halim Gonios (\\\"\\\"William George\\\"\\\")\\\",male,,1,1,2661,15.2458,,C\",\n          \"440,0,2,\\\"Kvillner, Mr. Johan Henrik Johannesson\\\",male,31,0,0,C.A. 18723,10.5,,S\",\n          \"841,0,3,\\\"Alhomaki, Mr. Ilmari Rudolf\\\",male,20,0,0,SOTON/O2 3101287,7.925,,S\"\n        ],\n        \"semantic_type\": \"\",\n        \"description\": \"\"\n      }\n    }\n  ]\n}"
            }
          },
          "metadata": {},
          "execution_count": 51
        }
      ]
    },
    {
      "cell_type": "code",
      "source": [
        "test.describe()\n",
        "train.describe()"
      ],
      "metadata": {
        "colab": {
          "base_uri": "https://localhost:8080/",
          "height": 175
        },
        "id": "N79G4RUsb3bf",
        "outputId": "c21a75f8-404b-4838-aa30-3d4384f2b73e"
      },
      "execution_count": null,
      "outputs": [
        {
          "output_type": "execute_result",
          "data": {
            "text/plain": [
              "       PassengerId,Survived,Pclass,Name,Sex,Age,SibSp,Parch,Ticket,Fare,Cabin,Embarked\n",
              "count                                                 891                             \n",
              "unique                                                891                             \n",
              "top     1,0,3,\"Braund, Mr. Owen Harris\",male,22,1,0,A/...                             \n",
              "freq                                                    1                             "
            ],
            "text/html": [
              "\n",
              "  <div id=\"df-ac659f09-a738-4fd1-a481-f402e3c7dde3\" class=\"colab-df-container\">\n",
              "    <div>\n",
              "<style scoped>\n",
              "    .dataframe tbody tr th:only-of-type {\n",
              "        vertical-align: middle;\n",
              "    }\n",
              "\n",
              "    .dataframe tbody tr th {\n",
              "        vertical-align: top;\n",
              "    }\n",
              "\n",
              "    .dataframe thead th {\n",
              "        text-align: right;\n",
              "    }\n",
              "</style>\n",
              "<table border=\"1\" class=\"dataframe\">\n",
              "  <thead>\n",
              "    <tr style=\"text-align: right;\">\n",
              "      <th></th>\n",
              "      <th>PassengerId,Survived,Pclass,Name,Sex,Age,SibSp,Parch,Ticket,Fare,Cabin,Embarked</th>\n",
              "    </tr>\n",
              "  </thead>\n",
              "  <tbody>\n",
              "    <tr>\n",
              "      <th>count</th>\n",
              "      <td>891</td>\n",
              "    </tr>\n",
              "    <tr>\n",
              "      <th>unique</th>\n",
              "      <td>891</td>\n",
              "    </tr>\n",
              "    <tr>\n",
              "      <th>top</th>\n",
              "      <td>1,0,3,\"Braund, Mr. Owen Harris\",male,22,1,0,A/...</td>\n",
              "    </tr>\n",
              "    <tr>\n",
              "      <th>freq</th>\n",
              "      <td>1</td>\n",
              "    </tr>\n",
              "  </tbody>\n",
              "</table>\n",
              "</div>\n",
              "    <div class=\"colab-df-buttons\">\n",
              "\n",
              "  <div class=\"colab-df-container\">\n",
              "    <button class=\"colab-df-convert\" onclick=\"convertToInteractive('df-ac659f09-a738-4fd1-a481-f402e3c7dde3')\"\n",
              "            title=\"Convert this dataframe to an interactive table.\"\n",
              "            style=\"display:none;\">\n",
              "\n",
              "  <svg xmlns=\"http://www.w3.org/2000/svg\" height=\"24px\" viewBox=\"0 -960 960 960\">\n",
              "    <path d=\"M120-120v-720h720v720H120Zm60-500h600v-160H180v160Zm220 220h160v-160H400v160Zm0 220h160v-160H400v160ZM180-400h160v-160H180v160Zm440 0h160v-160H620v160ZM180-180h160v-160H180v160Zm440 0h160v-160H620v160Z\"/>\n",
              "  </svg>\n",
              "    </button>\n",
              "\n",
              "  <style>\n",
              "    .colab-df-container {\n",
              "      display:flex;\n",
              "      gap: 12px;\n",
              "    }\n",
              "\n",
              "    .colab-df-convert {\n",
              "      background-color: #E8F0FE;\n",
              "      border: none;\n",
              "      border-radius: 50%;\n",
              "      cursor: pointer;\n",
              "      display: none;\n",
              "      fill: #1967D2;\n",
              "      height: 32px;\n",
              "      padding: 0 0 0 0;\n",
              "      width: 32px;\n",
              "    }\n",
              "\n",
              "    .colab-df-convert:hover {\n",
              "      background-color: #E2EBFA;\n",
              "      box-shadow: 0px 1px 2px rgba(60, 64, 67, 0.3), 0px 1px 3px 1px rgba(60, 64, 67, 0.15);\n",
              "      fill: #174EA6;\n",
              "    }\n",
              "\n",
              "    .colab-df-buttons div {\n",
              "      margin-bottom: 4px;\n",
              "    }\n",
              "\n",
              "    [theme=dark] .colab-df-convert {\n",
              "      background-color: #3B4455;\n",
              "      fill: #D2E3FC;\n",
              "    }\n",
              "\n",
              "    [theme=dark] .colab-df-convert:hover {\n",
              "      background-color: #434B5C;\n",
              "      box-shadow: 0px 1px 3px 1px rgba(0, 0, 0, 0.15);\n",
              "      filter: drop-shadow(0px 1px 2px rgba(0, 0, 0, 0.3));\n",
              "      fill: #FFFFFF;\n",
              "    }\n",
              "  </style>\n",
              "\n",
              "    <script>\n",
              "      const buttonEl =\n",
              "        document.querySelector('#df-ac659f09-a738-4fd1-a481-f402e3c7dde3 button.colab-df-convert');\n",
              "      buttonEl.style.display =\n",
              "        google.colab.kernel.accessAllowed ? 'block' : 'none';\n",
              "\n",
              "      async function convertToInteractive(key) {\n",
              "        const element = document.querySelector('#df-ac659f09-a738-4fd1-a481-f402e3c7dde3');\n",
              "        const dataTable =\n",
              "          await google.colab.kernel.invokeFunction('convertToInteractive',\n",
              "                                                    [key], {});\n",
              "        if (!dataTable) return;\n",
              "\n",
              "        const docLinkHtml = 'Like what you see? Visit the ' +\n",
              "          '<a target=\"_blank\" href=https://colab.research.google.com/notebooks/data_table.ipynb>data table notebook</a>'\n",
              "          + ' to learn more about interactive tables.';\n",
              "        element.innerHTML = '';\n",
              "        dataTable['output_type'] = 'display_data';\n",
              "        await google.colab.output.renderOutput(dataTable, element);\n",
              "        const docLink = document.createElement('div');\n",
              "        docLink.innerHTML = docLinkHtml;\n",
              "        element.appendChild(docLink);\n",
              "      }\n",
              "    </script>\n",
              "  </div>\n",
              "\n",
              "\n",
              "<div id=\"df-ea7dcd00-229a-465b-8303-7727a01ad857\">\n",
              "  <button class=\"colab-df-quickchart\" onclick=\"quickchart('df-ea7dcd00-229a-465b-8303-7727a01ad857')\"\n",
              "            title=\"Suggest charts\"\n",
              "            style=\"display:none;\">\n",
              "\n",
              "<svg xmlns=\"http://www.w3.org/2000/svg\" height=\"24px\"viewBox=\"0 0 24 24\"\n",
              "     width=\"24px\">\n",
              "    <g>\n",
              "        <path d=\"M19 3H5c-1.1 0-2 .9-2 2v14c0 1.1.9 2 2 2h14c1.1 0 2-.9 2-2V5c0-1.1-.9-2-2-2zM9 17H7v-7h2v7zm4 0h-2V7h2v10zm4 0h-2v-4h2v4z\"/>\n",
              "    </g>\n",
              "</svg>\n",
              "  </button>\n",
              "\n",
              "<style>\n",
              "  .colab-df-quickchart {\n",
              "      --bg-color: #E8F0FE;\n",
              "      --fill-color: #1967D2;\n",
              "      --hover-bg-color: #E2EBFA;\n",
              "      --hover-fill-color: #174EA6;\n",
              "      --disabled-fill-color: #AAA;\n",
              "      --disabled-bg-color: #DDD;\n",
              "  }\n",
              "\n",
              "  [theme=dark] .colab-df-quickchart {\n",
              "      --bg-color: #3B4455;\n",
              "      --fill-color: #D2E3FC;\n",
              "      --hover-bg-color: #434B5C;\n",
              "      --hover-fill-color: #FFFFFF;\n",
              "      --disabled-bg-color: #3B4455;\n",
              "      --disabled-fill-color: #666;\n",
              "  }\n",
              "\n",
              "  .colab-df-quickchart {\n",
              "    background-color: var(--bg-color);\n",
              "    border: none;\n",
              "    border-radius: 50%;\n",
              "    cursor: pointer;\n",
              "    display: none;\n",
              "    fill: var(--fill-color);\n",
              "    height: 32px;\n",
              "    padding: 0;\n",
              "    width: 32px;\n",
              "  }\n",
              "\n",
              "  .colab-df-quickchart:hover {\n",
              "    background-color: var(--hover-bg-color);\n",
              "    box-shadow: 0 1px 2px rgba(60, 64, 67, 0.3), 0 1px 3px 1px rgba(60, 64, 67, 0.15);\n",
              "    fill: var(--button-hover-fill-color);\n",
              "  }\n",
              "\n",
              "  .colab-df-quickchart-complete:disabled,\n",
              "  .colab-df-quickchart-complete:disabled:hover {\n",
              "    background-color: var(--disabled-bg-color);\n",
              "    fill: var(--disabled-fill-color);\n",
              "    box-shadow: none;\n",
              "  }\n",
              "\n",
              "  .colab-df-spinner {\n",
              "    border: 2px solid var(--fill-color);\n",
              "    border-color: transparent;\n",
              "    border-bottom-color: var(--fill-color);\n",
              "    animation:\n",
              "      spin 1s steps(1) infinite;\n",
              "  }\n",
              "\n",
              "  @keyframes spin {\n",
              "    0% {\n",
              "      border-color: transparent;\n",
              "      border-bottom-color: var(--fill-color);\n",
              "      border-left-color: var(--fill-color);\n",
              "    }\n",
              "    20% {\n",
              "      border-color: transparent;\n",
              "      border-left-color: var(--fill-color);\n",
              "      border-top-color: var(--fill-color);\n",
              "    }\n",
              "    30% {\n",
              "      border-color: transparent;\n",
              "      border-left-color: var(--fill-color);\n",
              "      border-top-color: var(--fill-color);\n",
              "      border-right-color: var(--fill-color);\n",
              "    }\n",
              "    40% {\n",
              "      border-color: transparent;\n",
              "      border-right-color: var(--fill-color);\n",
              "      border-top-color: var(--fill-color);\n",
              "    }\n",
              "    60% {\n",
              "      border-color: transparent;\n",
              "      border-right-color: var(--fill-color);\n",
              "    }\n",
              "    80% {\n",
              "      border-color: transparent;\n",
              "      border-right-color: var(--fill-color);\n",
              "      border-bottom-color: var(--fill-color);\n",
              "    }\n",
              "    90% {\n",
              "      border-color: transparent;\n",
              "      border-bottom-color: var(--fill-color);\n",
              "    }\n",
              "  }\n",
              "</style>\n",
              "\n",
              "  <script>\n",
              "    async function quickchart(key) {\n",
              "      const quickchartButtonEl =\n",
              "        document.querySelector('#' + key + ' button');\n",
              "      quickchartButtonEl.disabled = true;  // To prevent multiple clicks.\n",
              "      quickchartButtonEl.classList.add('colab-df-spinner');\n",
              "      try {\n",
              "        const charts = await google.colab.kernel.invokeFunction(\n",
              "            'suggestCharts', [key], {});\n",
              "      } catch (error) {\n",
              "        console.error('Error during call to suggestCharts:', error);\n",
              "      }\n",
              "      quickchartButtonEl.classList.remove('colab-df-spinner');\n",
              "      quickchartButtonEl.classList.add('colab-df-quickchart-complete');\n",
              "    }\n",
              "    (() => {\n",
              "      let quickchartButtonEl =\n",
              "        document.querySelector('#df-ea7dcd00-229a-465b-8303-7727a01ad857 button');\n",
              "      quickchartButtonEl.style.display =\n",
              "        google.colab.kernel.accessAllowed ? 'block' : 'none';\n",
              "    })();\n",
              "  </script>\n",
              "</div>\n",
              "    </div>\n",
              "  </div>\n"
            ],
            "application/vnd.google.colaboratory.intrinsic+json": {
              "type": "dataframe",
              "summary": "{\n  \"name\": \"trainFrame\",\n  \"rows\": 4,\n  \"fields\": [\n    {\n      \"column\": \"PassengerId,Survived,Pclass,Name,Sex,Age,SibSp,Parch,Ticket,Fare,Cabin,Embarked\",\n      \"properties\": {\n        \"dtype\": \"string\",\n        \"num_unique_values\": 3,\n        \"samples\": [\n          \"891\",\n          \"1,0,3,\\\"Braund, Mr. Owen Harris\\\",male,22,1,0,A/5 21171,7.25,,S\",\n          \"1\"\n        ],\n        \"semantic_type\": \"\",\n        \"description\": \"\"\n      }\n    }\n  ]\n}"
            }
          },
          "metadata": {},
          "execution_count": 52
        }
      ]
    },
    {
      "cell_type": "markdown",
      "source": [
        "##Plot the Data"
      ],
      "metadata": {
        "id": "77XVckqPayLd"
      }
    },
    {
      "cell_type": "code",
      "source": [
        "# Filter the data for men and women from the 'Sex' column\n",
        "men_train = train[train['Sex'] == 'male']\n",
        "women_train = train[train['Sex'] == 'female']\n",
        "\n",
        "# Calculate the mean of 'Survived', 'Pclass', and 'SibSp' columns for menTrain\n",
        "men_train_mean = men_train[['Survived', 'Pclass', 'SibSp']].mean(axis=1)\n",
        "\n",
        "# Plot the scatter plot for menTrain\n",
        "plt.scatter(men_train_mean, men_train['Age'])\n",
        "plt.xlabel('Mean of Survived, Pclass, SibSp')\n",
        "plt.ylabel('Age')\n",
        "plt.title('Scatter plot of mean vs. age for male passengers')\n",
        "plt.show()"
      ],
      "metadata": {
        "colab": {
          "base_uri": "https://localhost:8080/",
          "height": 472
        },
        "id": "HHW6IHYpax-L",
        "outputId": "850f6f30-55b7-4395-e13c-9dd014dacff1"
      },
      "execution_count": null,
      "outputs": [
        {
          "output_type": "display_data",
          "data": {
            "text/plain": [
              "<Figure size 640x480 with 1 Axes>"
            ],
            "image/png": "[encoded data removed]"
          },
          "metadata": {}
        }
      ]
    },
    {
      "cell_type": "code",
      "source": [
        "women_train_mean = women_train[[\"Survived\", \"Pclass\", \"SibSp\"]].mean(axis=1)\n",
        "plt.scatter(women_train_mean, women_train[\"Age\"])\n",
        "plt.xlabel('Mean of Survived, Pclass, SibSp')\n",
        "plt.ylabel('Age')\n",
        "plt.title('Scatter plot of Mean of Survival Related Features vs. Age')\n",
        "plt.show()"
      ],
      "metadata": {
        "colab": {
          "base_uri": "https://localhost:8080/",
          "height": 472
        },
        "id": "8AhrFmnscRTi",
        "outputId": "5bb19303-53bb-412d-9c5b-6e378b8a0203"
      },
      "execution_count": null,
      "outputs": [
        {
          "output_type": "display_data",
          "data": {
            "text/plain": [
              "<Figure size 640x480 with 1 Axes>"
            ],
            "image/png": "[encoded data removed]"
          },
          "metadata": {}
        }
      ]
    },
    {
      "cell_type": "markdown",
      "source": [
        "##Perform Simple Linear Regression on the SURVIVAL feature column"
      ],
      "metadata": {
        "id": "IUoCtquMjGBL"
      }
    },
    {
      "cell_type": "code",
      "source": [
        "import numpy as np\n",
        "import matplotlib.pyplot as plt\n",
        "import seaborn as sns\n",
        "\n",
        "# Assuming 'train' is the DataFrame containing 'Survived' and 'Age' columns\n",
        "x = train['Survived']\n",
        "y = train['Age']\n",
        "\n",
        "plt.figure(figsize=(8, 6))  # Adjusting figure size for better visualization\n",
        "sns.scatterplot(x=x, y=y)\n",
        "plt.xlabel('Survived')\n",
        "plt.ylabel('Age')\n",
        "plt.title('Relationship between Survival and Age')\n",
        "plt.show()\n",
        "\n",
        "# Converting the data into numpy arrays\n",
        "x = np.array(x)\n",
        "y = np.array(y)\n",
        "# Calculating the coefficients for the linear regression\n",
        "slope, intercept = np.polyfit(x, y, 1)\n",
        "# Adding the regression line to the scatter plot\n",
        "plt.figure(figsize=(8, 6))\n",
        "sns.scatterplot(x=x, y=y)\n",
        "plt.plot(x, slope*x + intercept, color='yellow')  # Plotting the regression line\n",
        "plt.xlabel('Survived')\n",
        "plt.ylabel('Age')\n",
        "plt.title('Regression Line for Survival and Age')\n",
        "plt.show()"
      ],
      "metadata": {
        "colab": {
          "base_uri": "https://localhost:8080/",
          "height": 1000
        },
        "id": "eXegGS6NeRwy",
        "outputId": "e4dd9cbb-e0a0-4ac5-ad9a-2a8e40e13c77"
      },
      "execution_count": null,
      "outputs": [
        {
          "output_type": "display_data",
          "data": {
            "text/plain": [
              "<Figure size 800x600 with 1 Axes>"
            ],
            "image/png": "[encoded data removed]"
          },
          "metadata": {}
        },
        {
          "output_type": "display_data",
          "data": {
            "text/plain": [
              "<Figure size 800x600 with 1 Axes>"
            ],
            "image/png": "[encoded data removed]"
          },
          "metadata": {}
        }
      ]
    },
    {
      "cell_type": "markdown",
      "source": [
        "In this part of the lab, you will create a decision tree classifier that will learn from a labelled dataset.\n",
        "\n",
        "\n",
        "The dataset contains the names and demographic details for each passenger. In addition, details of the\n",
        "passengers' trip are included. From this data, we can be build a decision tree that illustrates the factors that\n",
        "contributed to survivability, or lack of it, for the voyage.\n",
        "\n",
        "\n",
        "The datasets contain the following variables:\n",
        "\n"
      ],
      "metadata": {
        "id": "ZoRxS6mtfUoS"
      }
    },
    {
      "cell_type": "markdown",
      "source": [
        "![image.png](data:image/png;base64,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)"
      ],
      "metadata": {
        "id": "MKgbs478fgSy"
      }
    },
    {
      "cell_type": "markdown",
      "source": [
        "**With the data above, what kinds of questions can we ask about the factors that contributed to passengers surviving or perishing in the Titanic disaster?**\n",
        "\n",
        "Questions like\n",
        "\n",
        "*   Does status in life determine whether you live or die?\n",
        "*   Which age range survived the most?\n",
        "*   Did thtetyt prioritize the people who must be the first or they been selective will the people who will ride the lifeboats first?\n",
        "*   Did the gender affect the survivability?"
      ],
      "metadata": {
        "id": "k-gtd1rsfkRi"
      }
    },
    {
      "cell_type": "markdown",
      "source": [
        "#Step 1: Create the dataframe\n",
        "\n",
        "**a) Import pandas and the csv file**\n",
        "\n",
        "First, import pandas and create a dataframe from the Titanic training data set, which is stored in the titanictrain.csv file. Use the pd.read_csv() method.\n"
      ],
      "metadata": {
        "id": "jW6e73YMfqp8"
      }
    },
    {
      "cell_type": "code",
      "source": [
        "#Code cell 1\n",
        "#import pandas\n",
        "import pandas as pd\n",
        "#create a pandas dataframe called \"training\" from the titanic-train.csv file\n",
        "training = pd.read_csv(\"/content/titanic_train.csv\")\n"
      ],
      "metadata": {
        "id": "RCYTnvQIfytV"
      },
      "execution_count": null,
      "outputs": []
    },
    {
      "cell_type": "markdown",
      "source": [
        "**b) Verify the import and take a look at the data.**"
      ],
      "metadata": {
        "id": "HPS_R6Iaf5L7"
      }
    },
    {
      "cell_type": "code",
      "source": [
        "#Code cell 2\n",
        "#verify the contents of the training dataframe using the pandas info() method.\n",
        "#training.?\n",
        "training.info()"
      ],
      "metadata": {
        "id": "_X-rAMYtf6gz",
        "colab": {
          "base_uri": "https://localhost:8080/"
        },
        "outputId": "61871559-df35-44f7-f3fe-6d144f0b9c46"
      },
      "execution_count": null,
      "outputs": [
        {
          "output_type": "stream",
          "name": "stdout",
          "text": [
            "<class 'pandas.core.frame.DataFrame'>\n",
            "RangeIndex: 891 entries, 0 to 890\n",
            "Data columns (total 12 columns):\n",
            " #   Column       Non-Null Count  Dtype  \n",
            "---  ------       --------------  -----  \n",
            " 0   PassengerId  891 non-null    int64  \n",
            " 1   Survived     891 non-null    int64  \n",
            " 2   Pclass       891 non-null    int64  \n",
            " 3   Name         891 non-null    object \n",
            " 4   Sex          891 non-null    object \n",
            " 5   Age          714 non-null    float64\n",
            " 6   SibSp        891 non-null    int64  \n",
            " 7   Parch        891 non-null    int64  \n",
            " 8   Ticket       891 non-null    object \n",
            " 9   Fare         891 non-null    float64\n",
            " 10  Cabin        204 non-null    object \n",
            " 11  Embarked     889 non-null    object \n",
            "dtypes: float64(2), int64(5), object(5)\n",
            "memory usage: 83.7+ KB\n"
          ]
        }
      ]
    },
    {
      "cell_type": "markdown",
      "source": [
        "**Are there missing values in the data set?**\n",
        "\n",
        "- Yes like the age of the passengers of the boat, cabin and the embarked variables."
      ],
      "metadata": {
        "id": "o3rf8Ry0f98C"
      }
    },
    {
      "cell_type": "code",
      "source": [
        "#Code cell 3\n",
        "#view the first few rows of the data\n",
        "\n",
        "training"
      ],
      "metadata": {
        "id": "oyBbzoyCgCYa",
        "colab": {
          "base_uri": "https://localhost:8080/",
          "height": 424
        },
        "outputId": "6c39ab82-d3ab-4197-e417-2c4d16f82e4c"
      },
      "execution_count": null,
      "outputs": [
        {
          "output_type": "execute_result",
          "data": {
            "text/plain": [
              "     PassengerId  Survived  Pclass  \\\n",
              "0              1         0       3   \n",
              "1              2         1       1   \n",
              "2              3         1       3   \n",
              "3              4         1       1   \n",
              "4              5         0       3   \n",
              "..           ...       ...     ...   \n",
              "886          887         0       2   \n",
              "887          888         1       1   \n",
              "888          889         0       3   \n",
              "889          890         1       1   \n",
              "890          891         0       3   \n",
              "\n",
              "                                                  Name     Sex   Age  SibSp  \\\n",
              "0                              Braund, Mr. Owen Harris    male  22.0      1   \n",
              "1    Cumings, Mrs. John Bradley (Florence Briggs Th...  female  38.0      1   \n",
              "2                               Heikkinen, Miss. Laina  female  26.0      0   \n",
              "3         Futrelle, Mrs. Jacques Heath (Lily May Peel)  female  35.0      1   \n",
              "4                             Allen, Mr. William Henry    male  35.0      0   \n",
              "..                                                 ...     ...   ...    ...   \n",
              "886                              Montvila, Rev. Juozas    male  27.0      0   \n",
              "887                       Graham, Miss. Margaret Edith  female  19.0      0   \n",
              "888           Johnston, Miss. Catherine Helen \"Carrie\"  female   NaN      1   \n",
              "889                              Behr, Mr. Karl Howell    male  26.0      0   \n",
              "890                                Dooley, Mr. Patrick    male  32.0      0   \n",
              "\n",
              "     Parch            Ticket     Fare Cabin Embarked  \n",
              "0        0         A/5 21171   7.2500   NaN        S  \n",
              "1        0          PC 17599  71.2833   C85        C  \n",
              "2        0  STON/O2. 3101282   7.9250   NaN        S  \n",
              "3        0            113803  53.1000  C123        S  \n",
              "4        0            373450   8.0500   NaN        S  \n",
              "..     ...               ...      ...   ...      ...  \n",
              "886      0            211536  13.0000   NaN        S  \n",
              "887      0            112053  30.0000   B42        S  \n",
              "888      2        W./C. 6607  23.4500   NaN        S  \n",
              "889      0            111369  30.0000  C148        C  \n",
              "890      0            370376   7.7500   NaN        Q  \n",
              "\n",
              "[891 rows x 12 columns]"
            ],
            "text/html": [
              "\n",
              "  <div id=\"df-a4f09d92-a765-46ff-8736-c9fa6abdd657\" class=\"colab-df-container\">\n",
              "    <div>\n",
              "<style scoped>\n",
              "    .dataframe tbody tr th:only-of-type {\n",
              "        vertical-align: middle;\n",
              "    }\n",
              "\n",
              "    .dataframe tbody tr th {\n",
              "        vertical-align: top;\n",
              "    }\n",
              "\n",
              "    .dataframe thead th {\n",
              "        text-align: right;\n",
              "    }\n",
              "</style>\n",
              "<table border=\"1\" class=\"dataframe\">\n",
              "  <thead>\n",
              "    <tr style=\"text-align: right;\">\n",
              "      <th></th>\n",
              "      <th>PassengerId</th>\n",
              "      <th>Survived</th>\n",
              "      <th>Pclass</th>\n",
              "      <th>Name</th>\n",
              "      <th>Sex</th>\n",
              "      <th>Age</th>\n",
              "      <th>SibSp</th>\n",
              "      <th>Parch</th>\n",
              "      <th>Ticket</th>\n",
              "      <th>Fare</th>\n",
              "      <th>Cabin</th>\n",
              "      <th>Embarked</th>\n",
              "    </tr>\n",
              "  </thead>\n",
              "  <tbody>\n",
              "    <tr>\n",
              "      <th>0</th>\n",
              "      <td>1</td>\n",
              "      <td>0</td>\n",
              "      <td>3</td>\n",
              "      <td>Braund, Mr. Owen Harris</td>\n",
              "      <td>male</td>\n",
              "      <td>22.0</td>\n",
              "      <td>1</td>\n",
              "      <td>0</td>\n",
              "      <td>A/5 21171</td>\n",
              "      <td>7.2500</td>\n",
              "      <td>NaN</td>\n",
              "      <td>S</td>\n",
              "    </tr>\n",
              "    <tr>\n",
              "      <th>1</th>\n",
              "      <td>2</td>\n",
              "      <td>1</td>\n",
              "      <td>1</td>\n",
              "      <td>Cumings, Mrs. John Bradley (Florence Briggs Th...</td>\n",
              "      <td>female</td>\n",
              "      <td>38.0</td>\n",
              "      <td>1</td>\n",
              "      <td>0</td>\n",
              "      <td>PC 17599</td>\n",
              "      <td>71.2833</td>\n",
              "      <td>C85</td>\n",
              "      <td>C</td>\n",
              "    </tr>\n",
              "    <tr>\n",
              "      <th>2</th>\n",
              "      <td>3</td>\n",
              "      <td>1</td>\n",
              "      <td>3</td>\n",
              "      <td>Heikkinen, Miss. Laina</td>\n",
              "      <td>female</td>\n",
              "      <td>26.0</td>\n",
              "      <td>0</td>\n",
              "      <td>0</td>\n",
              "      <td>STON/O2. 3101282</td>\n",
              "      <td>7.9250</td>\n",
              "      <td>NaN</td>\n",
              "      <td>S</td>\n",
              "    </tr>\n",
              "    <tr>\n",
              "      <th>3</th>\n",
              "      <td>4</td>\n",
              "      <td>1</td>\n",
              "      <td>1</td>\n",
              "      <td>Futrelle, Mrs. Jacques Heath (Lily May Peel)</td>\n",
              "      <td>female</td>\n",
              "      <td>35.0</td>\n",
              "      <td>1</td>\n",
              "      <td>0</td>\n",
              "      <td>113803</td>\n",
              "      <td>53.1000</td>\n",
              "      <td>C123</td>\n",
              "      <td>S</td>\n",
              "    </tr>\n",
              "    <tr>\n",
              "      <th>4</th>\n",
              "      <td>5</td>\n",
              "      <td>0</td>\n",
              "      <td>3</td>\n",
              "      <td>Allen, Mr. William Henry</td>\n",
              "      <td>male</td>\n",
              "      <td>35.0</td>\n",
              "      <td>0</td>\n",
              "      <td>0</td>\n",
              "      <td>373450</td>\n",
              "      <td>8.0500</td>\n",
              "      <td>NaN</td>\n",
              "      <td>S</td>\n",
              "    </tr>\n",
              "    <tr>\n",
              "      <th>...</th>\n",
              "      <td>...</td>\n",
              "      <td>...</td>\n",
              "      <td>...</td>\n",
              "      <td>...</td>\n",
              "      <td>...</td>\n",
              "      <td>...</td>\n",
              "      <td>...</td>\n",
              "      <td>...</td>\n",
              "      <td>...</td>\n",
              "      <td>...</td>\n",
              "      <td>...</td>\n",
              "      <td>...</td>\n",
              "    </tr>\n",
              "    <tr>\n",
              "      <th>886</th>\n",
              "      <td>887</td>\n",
              "      <td>0</td>\n",
              "      <td>2</td>\n",
              "      <td>Montvila, Rev. Juozas</td>\n",
              "      <td>male</td>\n",
              "      <td>27.0</td>\n",
              "      <td>0</td>\n",
              "      <td>0</td>\n",
              "      <td>211536</td>\n",
              "      <td>13.0000</td>\n",
              "      <td>NaN</td>\n",
              "      <td>S</td>\n",
              "    </tr>\n",
              "    <tr>\n",
              "      <th>887</th>\n",
              "      <td>888</td>\n",
              "      <td>1</td>\n",
              "      <td>1</td>\n",
              "      <td>Graham, Miss. Margaret Edith</td>\n",
              "      <td>female</td>\n",
              "      <td>19.0</td>\n",
              "      <td>0</td>\n",
              "      <td>0</td>\n",
              "      <td>112053</td>\n",
              "      <td>30.0000</td>\n",
              "      <td>B42</td>\n",
              "      <td>S</td>\n",
              "    </tr>\n",
              "    <tr>\n",
              "      <th>888</th>\n",
              "      <td>889</td>\n",
              "      <td>0</td>\n",
              "      <td>3</td>\n",
              "      <td>Johnston, Miss. Catherine Helen \"Carrie\"</td>\n",
              "      <td>female</td>\n",
              "      <td>NaN</td>\n",
              "      <td>1</td>\n",
              "      <td>2</td>\n",
              "      <td>W./C. 6607</td>\n",
              "      <td>23.4500</td>\n",
              "      <td>NaN</td>\n",
              "      <td>S</td>\n",
              "    </tr>\n",
              "    <tr>\n",
              "      <th>889</th>\n",
              "      <td>890</td>\n",
              "      <td>1</td>\n",
              "      <td>1</td>\n",
              "      <td>Behr, Mr. Karl Howell</td>\n",
              "      <td>male</td>\n",
              "      <td>26.0</td>\n",
              "      <td>0</td>\n",
              "      <td>0</td>\n",
              "      <td>111369</td>\n",
              "      <td>30.0000</td>\n",
              "      <td>C148</td>\n",
              "      <td>C</td>\n",
              "    </tr>\n",
              "    <tr>\n",
              "      <th>890</th>\n",
              "      <td>891</td>\n",
              "      <td>0</td>\n",
              "      <td>3</td>\n",
              "      <td>Dooley, Mr. Patrick</td>\n",
              "      <td>male</td>\n",
              "      <td>32.0</td>\n",
              "      <td>0</td>\n",
              "      <td>0</td>\n",
              "      <td>370376</td>\n",
              "      <td>7.7500</td>\n",
              "      <td>NaN</td>\n",
              "      <td>Q</td>\n",
              "    </tr>\n",
              "  </tbody>\n",
              "</table>\n",
              "<p>891 rows × 12 columns</p>\n",
              "</div>\n",
              "    <div class=\"colab-df-buttons\">\n",
              "\n",
              "  <div class=\"colab-df-container\">\n",
              "    <button class=\"colab-df-convert\" onclick=\"convertToInteractive('df-a4f09d92-a765-46ff-8736-c9fa6abdd657')\"\n",
              "            title=\"Convert this dataframe to an interactive table.\"\n",
              "            style=\"display:none;\">\n",
              "\n",
              "  <svg xmlns=\"http://www.w3.org/2000/svg\" height=\"24px\" viewBox=\"0 -960 960 960\">\n",
              "    <path d=\"M120-120v-720h720v720H120Zm60-500h600v-160H180v160Zm220 220h160v-160H400v160Zm0 220h160v-160H400v160ZM180-400h160v-160H180v160Zm440 0h160v-160H620v160ZM180-180h160v-160H180v160Zm440 0h160v-160H620v160Z\"/>\n",
              "  </svg>\n",
              "    </button>\n",
              "\n",
              "  <style>\n",
              "    .colab-df-container {\n",
              "      display:flex;\n",
              "      gap: 12px;\n",
              "    }\n",
              "\n",
              "    .colab-df-convert {\n",
              "      background-color: #E8F0FE;\n",
              "      border: none;\n",
              "      border-radius: 50%;\n",
              "      cursor: pointer;\n",
              "      display: none;\n",
              "      fill: #1967D2;\n",
              "      height: 32px;\n",
              "      padding: 0 0 0 0;\n",
              "      width: 32px;\n",
              "    }\n",
              "\n",
              "    .colab-df-convert:hover {\n",
              "      background-color: #E2EBFA;\n",
              "      box-shadow: 0px 1px 2px rgba(60, 64, 67, 0.3), 0px 1px 3px 1px rgba(60, 64, 67, 0.15);\n",
              "      fill: #174EA6;\n",
              "    }\n",
              "\n",
              "    .colab-df-buttons div {\n",
              "      margin-bottom: 4px;\n",
              "    }\n",
              "\n",
              "    [theme=dark] .colab-df-convert {\n",
              "      background-color: #3B4455;\n",
              "      fill: #D2E3FC;\n",
              "    }\n",
              "\n",
              "    [theme=dark] .colab-df-convert:hover {\n",
              "      background-color: #434B5C;\n",
              "      box-shadow: 0px 1px 3px 1px rgba(0, 0, 0, 0.15);\n",
              "      filter: drop-shadow(0px 1px 2px rgba(0, 0, 0, 0.3));\n",
              "      fill: #FFFFFF;\n",
              "    }\n",
              "  </style>\n",
              "\n",
              "    <script>\n",
              "      const buttonEl =\n",
              "        document.querySelector('#df-a4f09d92-a765-46ff-8736-c9fa6abdd657 button.colab-df-convert');\n",
              "      buttonEl.style.display =\n",
              "        google.colab.kernel.accessAllowed ? 'block' : 'none';\n",
              "\n",
              "      async function convertToInteractive(key) {\n",
              "        const element = document.querySelector('#df-a4f09d92-a765-46ff-8736-c9fa6abdd657');\n",
              "        const dataTable =\n",
              "          await google.colab.kernel.invokeFunction('convertToInteractive',\n",
              "                                                    [key], {});\n",
              "        if (!dataTable) return;\n",
              "\n",
              "        const docLinkHtml = 'Like what you see? Visit the ' +\n",
              "          '<a target=\"_blank\" href=https://colab.research.google.com/notebooks/data_table.ipynb>data table notebook</a>'\n",
              "          + ' to learn more about interactive tables.';\n",
              "        element.innerHTML = '';\n",
              "        dataTable['output_type'] = 'display_data';\n",
              "        await google.colab.output.renderOutput(dataTable, element);\n",
              "        const docLink = document.createElement('div');\n",
              "        docLink.innerHTML = docLinkHtml;\n",
              "        element.appendChild(docLink);\n",
              "      }\n",
              "    </script>\n",
              "  </div>\n",
              "\n",
              "\n",
              "<div id=\"df-a77550c3-3666-4fa7-9fd8-1bd44fae10d2\">\n",
              "  <button class=\"colab-df-quickchart\" onclick=\"quickchart('df-a77550c3-3666-4fa7-9fd8-1bd44fae10d2')\"\n",
              "            title=\"Suggest charts\"\n",
              "            style=\"display:none;\">\n",
              "\n",
              "<svg xmlns=\"http://www.w3.org/2000/svg\" height=\"24px\"viewBox=\"0 0 24 24\"\n",
              "     width=\"24px\">\n",
              "    <g>\n",
              "        <path d=\"M19 3H5c-1.1 0-2 .9-2 2v14c0 1.1.9 2 2 2h14c1.1 0 2-.9 2-2V5c0-1.1-.9-2-2-2zM9 17H7v-7h2v7zm4 0h-2V7h2v10zm4 0h-2v-4h2v4z\"/>\n",
              "    </g>\n",
              "</svg>\n",
              "  </button>\n",
              "\n",
              "<style>\n",
              "  .colab-df-quickchart {\n",
              "      --bg-color: #E8F0FE;\n",
              "      --fill-color: #1967D2;\n",
              "      --hover-bg-color: #E2EBFA;\n",
              "      --hover-fill-color: #174EA6;\n",
              "      --disabled-fill-color: #AAA;\n",
              "      --disabled-bg-color: #DDD;\n",
              "  }\n",
              "\n",
              "  [theme=dark] .colab-df-quickchart {\n",
              "      --bg-color: #3B4455;\n",
              "      --fill-color: #D2E3FC;\n",
              "      --hover-bg-color: #434B5C;\n",
              "      --hover-fill-color: #FFFFFF;\n",
              "      --disabled-bg-color: #3B4455;\n",
              "      --disabled-fill-color: #666;\n",
              "  }\n",
              "\n",
              "  .colab-df-quickchart {\n",
              "    background-color: var(--bg-color);\n",
              "    border: none;\n",
              "    border-radius: 50%;\n",
              "    cursor: pointer;\n",
              "    display: none;\n",
              "    fill: var(--fill-color);\n",
              "    height: 32px;\n",
              "    padding: 0;\n",
              "    width: 32px;\n",
              "  }\n",
              "\n",
              "  .colab-df-quickchart:hover {\n",
              "    background-color: var(--hover-bg-color);\n",
              "    box-shadow: 0 1px 2px rgba(60, 64, 67, 0.3), 0 1px 3px 1px rgba(60, 64, 67, 0.15);\n",
              "    fill: var(--button-hover-fill-color);\n",
              "  }\n",
              "\n",
              "  .colab-df-quickchart-complete:disabled,\n",
              "  .colab-df-quickchart-complete:disabled:hover {\n",
              "    background-color: var(--disabled-bg-color);\n",
              "    fill: var(--disabled-fill-color);\n",
              "    box-shadow: none;\n",
              "  }\n",
              "\n",
              "  .colab-df-spinner {\n",
              "    border: 2px solid var(--fill-color);\n",
              "    border-color: transparent;\n",
              "    border-bottom-color: var(--fill-color);\n",
              "    animation:\n",
              "      spin 1s steps(1) infinite;\n",
              "  }\n",
              "\n",
              "  @keyframes spin {\n",
              "    0% {\n",
              "      border-color: transparent;\n",
              "      border-bottom-color: var(--fill-color);\n",
              "      border-left-color: var(--fill-color);\n",
              "    }\n",
              "    20% {\n",
              "      border-color: transparent;\n",
              "      border-left-color: var(--fill-color);\n",
              "      border-top-color: var(--fill-color);\n",
              "    }\n",
              "    30% {\n",
              "      border-color: transparent;\n",
              "      border-left-color: var(--fill-color);\n",
              "      border-top-color: var(--fill-color);\n",
              "      border-right-color: var(--fill-color);\n",
              "    }\n",
              "    40% {\n",
              "      border-color: transparent;\n",
              "      border-right-color: var(--fill-color);\n",
              "      border-top-color: var(--fill-color);\n",
              "    }\n",
              "    60% {\n",
              "      border-color: transparent;\n",
              "      border-right-color: var(--fill-color);\n",
              "    }\n",
              "    80% {\n",
              "      border-color: transparent;\n",
              "      border-right-color: var(--fill-color);\n",
              "      border-bottom-color: var(--fill-color);\n",
              "    }\n",
              "    90% {\n",
              "      border-color: transparent;\n",
              "      border-bottom-color: var(--fill-color);\n",
              "    }\n",
              "  }\n",
              "</style>\n",
              "\n",
              "  <script>\n",
              "    async function quickchart(key) {\n",
              "      const quickchartButtonEl =\n",
              "        document.querySelector('#' + key + ' button');\n",
              "      quickchartButtonEl.disabled = true;  // To prevent multiple clicks.\n",
              "      quickchartButtonEl.classList.add('colab-df-spinner');\n",
              "      try {\n",
              "        const charts = await google.colab.kernel.invokeFunction(\n",
              "            'suggestCharts', [key], {});\n",
              "      } catch (error) {\n",
              "        console.error('Error during call to suggestCharts:', error);\n",
              "      }\n",
              "      quickchartButtonEl.classList.remove('colab-df-spinner');\n",
              "      quickchartButtonEl.classList.add('colab-df-quickchart-complete');\n",
              "    }\n",
              "    (() => {\n",
              "      let quickchartButtonEl =\n",
              "        document.querySelector('#df-a77550c3-3666-4fa7-9fd8-1bd44fae10d2 button');\n",
              "      quickchartButtonEl.style.display =\n",
              "        google.colab.kernel.accessAllowed ? 'block' : 'none';\n",
              "    })();\n",
              "  </script>\n",
              "</div>\n",
              "    </div>\n",
              "  </div>\n"
            ],
            "application/vnd.google.colaboratory.intrinsic+json": {
              "type": "dataframe",
              "variable_name": "training",
              "summary": "{\n  \"name\": \"training\",\n  \"rows\": 891,\n  \"fields\": [\n    {\n      \"column\": \"PassengerId\",\n      \"properties\": {\n        \"dtype\": \"number\",\n        \"std\": 257,\n        \"min\": 1,\n        \"max\": 891,\n        \"num_unique_values\": 891,\n        \"samples\": [\n          710,\n          440,\n          841\n        ],\n        \"semantic_type\": \"\",\n        \"description\": \"\"\n      }\n    },\n    {\n      \"column\": \"Survived\",\n      \"properties\": {\n        \"dtype\": \"number\",\n        \"std\": 0,\n        \"min\": 0,\n        \"max\": 1,\n        \"num_unique_values\": 2,\n        \"samples\": [\n          1,\n          0\n        ],\n        \"semantic_type\": \"\",\n        \"description\": \"\"\n      }\n    },\n    {\n      \"column\": \"Pclass\",\n      \"properties\": {\n        \"dtype\": \"number\",\n        \"std\": 0,\n        \"min\": 1,\n        \"max\": 3,\n        \"num_unique_values\": 3,\n        \"samples\": [\n          3,\n          1\n        ],\n        \"semantic_type\": \"\",\n        \"description\": \"\"\n      }\n    },\n    {\n      \"column\": \"Name\",\n      \"properties\": {\n        \"dtype\": \"string\",\n        \"num_unique_values\": 891,\n        \"samples\": [\n          \"Moubarek, Master. Halim Gonios (\\\"William George\\\")\",\n          \"Kvillner, Mr. Johan Henrik Johannesson\"\n        ],\n        \"semantic_type\": \"\",\n        \"description\": \"\"\n      }\n    },\n    {\n      \"column\": \"Sex\",\n      \"properties\": {\n        \"dtype\": \"category\",\n        \"num_unique_values\": 2,\n        \"samples\": [\n          \"female\",\n          \"male\"\n        ],\n        \"semantic_type\": \"\",\n        \"description\": \"\"\n      }\n    },\n    {\n      \"column\": \"Age\",\n      \"properties\": {\n        \"dtype\": \"number\",\n        \"std\": 14.526497332334042,\n        \"min\": 0.42,\n        \"max\": 80.0,\n        \"num_unique_values\": 88,\n        \"samples\": [\n          0.75,\n          22.0\n        ],\n        \"semantic_type\": \"\",\n        \"description\": \"\"\n      }\n    },\n    {\n      \"column\": \"SibSp\",\n      \"properties\": {\n        \"dtype\": \"number\",\n        \"std\": 1,\n        \"min\": 0,\n        \"max\": 8,\n        \"num_unique_values\": 7,\n        \"samples\": [\n          1,\n          0\n        ],\n        \"semantic_type\": \"\",\n        \"description\": \"\"\n      }\n    },\n    {\n      \"column\": \"Parch\",\n      \"properties\": {\n        \"dtype\": \"number\",\n        \"std\": 0,\n        \"min\": 0,\n        \"max\": 6,\n        \"num_unique_values\": 7,\n        \"samples\": [\n          0,\n          1\n        ],\n        \"semantic_type\": \"\",\n        \"description\": \"\"\n      }\n    },\n    {\n      \"column\": \"Ticket\",\n      \"properties\": {\n        \"dtype\": \"string\",\n        \"num_unique_values\": 681,\n        \"samples\": [\n          \"11774\",\n          \"248740\"\n        ],\n        \"semantic_type\": \"\",\n        \"description\": \"\"\n      }\n    },\n    {\n      \"column\": \"Fare\",\n      \"properties\": {\n        \"dtype\": \"number\",\n        \"std\": 49.6934285971809,\n        \"min\": 0.0,\n        \"max\": 512.3292,\n        \"num_unique_values\": 248,\n        \"samples\": [\n          11.2417,\n          51.8625\n        ],\n        \"semantic_type\": \"\",\n        \"description\": \"\"\n      }\n    },\n    {\n      \"column\": \"Cabin\",\n      \"properties\": {\n        \"dtype\": \"category\",\n        \"num_unique_values\": 147,\n        \"samples\": [\n          \"D45\",\n          \"B49\"\n        ],\n        \"semantic_type\": \"\",\n        \"description\": \"\"\n      }\n    },\n    {\n      \"column\": \"Embarked\",\n      \"properties\": {\n        \"dtype\": \"category\",\n        \"num_unique_values\": 3,\n        \"samples\": [\n          \"S\",\n          \"C\"\n        ],\n        \"semantic_type\": \"\",\n        \"description\": \"\"\n      }\n    }\n  ]\n}"
            }
          },
          "metadata": {},
          "execution_count": 3
        }
      ]
    },
    {
      "cell_type": "markdown",
      "source": [
        "#Step 2: Prepare the Data for the Decision Tree Model.\n",
        "\n",
        "**a) Replace string data with numeric labels**\n",
        "\n",
        "\n",
        "We will use scikit-learn to create the decision trees. The decision tree model we will be using can only handle\n",
        "numeric data. The values for the Gender variable must be transformed into numeric representations. 0 will be\n",
        "used to represent \"male\" and 1 will represent \"female.\"\n",
        "\n",
        "\n",
        "In this code, a lambda expression is used with the apply() dataframe method. This lambda expression\n",
        "represents a function that uses a conditional statement to replace the text values in the columns with the\n",
        "appropriate numeric value. The lambda statement can be interpreted as \"if the parameter toLabel equals 'male',\n",
        "return 0, if the value is something else, return 1.\" The apply() method will execute this function on the values in\n",
        "every row of the \"Gender\" column of the dataframe.\n"
      ],
      "metadata": {
        "id": "PZcY4PFugEQy"
      }
    },
    {
      "cell_type": "code",
      "source": [
        "#code cell 4\n",
        "training[\"Sex\"] = training[\"Sex\"].apply(lambda toLabel: 0 if toLabel == 'male' else 1)"
      ],
      "metadata": {
        "id": "moJ96zM2gS4F"
      },
      "execution_count": null,
      "outputs": []
    },
    {
      "cell_type": "markdown",
      "source": [
        "**b) Verify that the Gender variable has been changed.**\n",
        "\n",
        "The output should show values of 0 or 1 for the Gender variable in the dataset"
      ],
      "metadata": {
        "id": "xV9Mum9AgOg7"
      }
    },
    {
      "cell_type": "code",
      "source": [
        "#code cell 5\n",
        "#view the first few rows of the data again\n",
        "training"
      ],
      "metadata": {
        "id": "mqVG41M9gVrD",
        "colab": {
          "base_uri": "https://localhost:8080/",
          "height": 424
        },
        "outputId": "cd4ce22d-cdc2-4a16-da62-9cfa1bf19c21"
      },
      "execution_count": null,
      "outputs": [
        {
          "output_type": "execute_result",
          "data": {
            "text/plain": [
              "     PassengerId  Survived  Pclass  \\\n",
              "0              1         0       3   \n",
              "1              2         1       1   \n",
              "2              3         1       3   \n",
              "3              4         1       1   \n",
              "4              5         0       3   \n",
              "..           ...       ...     ...   \n",
              "886          887         0       2   \n",
              "887          888         1       1   \n",
              "888          889         0       3   \n",
              "889          890         1       1   \n",
              "890          891         0       3   \n",
              "\n",
              "                                                  Name  Sex   Age  SibSp  \\\n",
              "0                              Braund, Mr. Owen Harris    0  22.0      1   \n",
              "1    Cumings, Mrs. John Bradley (Florence Briggs Th...    1  38.0      1   \n",
              "2                               Heikkinen, Miss. Laina    1  26.0      0   \n",
              "3         Futrelle, Mrs. Jacques Heath (Lily May Peel)    1  35.0      1   \n",
              "4                             Allen, Mr. William Henry    0  35.0      0   \n",
              "..                                                 ...  ...   ...    ...   \n",
              "886                              Montvila, Rev. Juozas    0  27.0      0   \n",
              "887                       Graham, Miss. Margaret Edith    1  19.0      0   \n",
              "888           Johnston, Miss. Catherine Helen \"Carrie\"    1   NaN      1   \n",
              "889                              Behr, Mr. Karl Howell    0  26.0      0   \n",
              "890                                Dooley, Mr. Patrick    0  32.0      0   \n",
              "\n",
              "     Parch            Ticket     Fare Cabin Embarked  \n",
              "0        0         A/5 21171   7.2500   NaN        S  \n",
              "1        0          PC 17599  71.2833   C85        C  \n",
              "2        0  STON/O2. 3101282   7.9250   NaN        S  \n",
              "3        0            113803  53.1000  C123        S  \n",
              "4        0            373450   8.0500   NaN        S  \n",
              "..     ...               ...      ...   ...      ...  \n",
              "886      0            211536  13.0000   NaN        S  \n",
              "887      0            112053  30.0000   B42        S  \n",
              "888      2        W./C. 6607  23.4500   NaN        S  \n",
              "889      0            111369  30.0000  C148        C  \n",
              "890      0            370376   7.7500   NaN        Q  \n",
              "\n",
              "[891 rows x 12 columns]"
            ],
            "text/html": [
              "\n",
              "  <div id=\"df-16f0a8ed-8737-4360-b36c-619a6d0162bb\" class=\"colab-df-container\">\n",
              "    <div>\n",
              "<style scoped>\n",
              "    .dataframe tbody tr th:only-of-type {\n",
              "        vertical-align: middle;\n",
              "    }\n",
              "\n",
              "    .dataframe tbody tr th {\n",
              "        vertical-align: top;\n",
              "    }\n",
              "\n",
              "    .dataframe thead th {\n",
              "        text-align: right;\n",
              "    }\n",
              "</style>\n",
              "<table border=\"1\" class=\"dataframe\">\n",
              "  <thead>\n",
              "    <tr style=\"text-align: right;\">\n",
              "      <th></th>\n",
              "      <th>PassengerId</th>\n",
              "      <th>Survived</th>\n",
              "      <th>Pclass</th>\n",
              "      <th>Name</th>\n",
              "      <th>Sex</th>\n",
              "      <th>Age</th>\n",
              "      <th>SibSp</th>\n",
              "      <th>Parch</th>\n",
              "      <th>Ticket</th>\n",
              "      <th>Fare</th>\n",
              "      <th>Cabin</th>\n",
              "      <th>Embarked</th>\n",
              "    </tr>\n",
              "  </thead>\n",
              "  <tbody>\n",
              "    <tr>\n",
              "      <th>0</th>\n",
              "      <td>1</td>\n",
              "      <td>0</td>\n",
              "      <td>3</td>\n",
              "      <td>Braund, Mr. Owen Harris</td>\n",
              "      <td>0</td>\n",
              "      <td>22.0</td>\n",
              "      <td>1</td>\n",
              "      <td>0</td>\n",
              "      <td>A/5 21171</td>\n",
              "      <td>7.2500</td>\n",
              "      <td>NaN</td>\n",
              "      <td>S</td>\n",
              "    </tr>\n",
              "    <tr>\n",
              "      <th>1</th>\n",
              "      <td>2</td>\n",
              "      <td>1</td>\n",
              "      <td>1</td>\n",
              "      <td>Cumings, Mrs. John Bradley (Florence Briggs Th...</td>\n",
              "      <td>1</td>\n",
              "      <td>38.0</td>\n",
              "      <td>1</td>\n",
              "      <td>0</td>\n",
              "      <td>PC 17599</td>\n",
              "      <td>71.2833</td>\n",
              "      <td>C85</td>\n",
              "      <td>C</td>\n",
              "    </tr>\n",
              "    <tr>\n",
              "      <th>2</th>\n",
              "      <td>3</td>\n",
              "      <td>1</td>\n",
              "      <td>3</td>\n",
              "      <td>Heikkinen, Miss. Laina</td>\n",
              "      <td>1</td>\n",
              "      <td>26.0</td>\n",
              "      <td>0</td>\n",
              "      <td>0</td>\n",
              "      <td>STON/O2. 3101282</td>\n",
              "      <td>7.9250</td>\n",
              "      <td>NaN</td>\n",
              "      <td>S</td>\n",
              "    </tr>\n",
              "    <tr>\n",
              "      <th>3</th>\n",
              "      <td>4</td>\n",
              "      <td>1</td>\n",
              "      <td>1</td>\n",
              "      <td>Futrelle, Mrs. Jacques Heath (Lily May Peel)</td>\n",
              "      <td>1</td>\n",
              "      <td>35.0</td>\n",
              "      <td>1</td>\n",
              "      <td>0</td>\n",
              "      <td>113803</td>\n",
              "      <td>53.1000</td>\n",
              "      <td>C123</td>\n",
              "      <td>S</td>\n",
              "    </tr>\n",
              "    <tr>\n",
              "      <th>4</th>\n",
              "      <td>5</td>\n",
              "      <td>0</td>\n",
              "      <td>3</td>\n",
              "      <td>Allen, Mr. William Henry</td>\n",
              "      <td>0</td>\n",
              "      <td>35.0</td>\n",
              "      <td>0</td>\n",
              "      <td>0</td>\n",
              "      <td>373450</td>\n",
              "      <td>8.0500</td>\n",
              "      <td>NaN</td>\n",
              "      <td>S</td>\n",
              "    </tr>\n",
              "    <tr>\n",
              "      <th>...</th>\n",
              "      <td>...</td>\n",
              "      <td>...</td>\n",
              "      <td>...</td>\n",
              "      <td>...</td>\n",
              "      <td>...</td>\n",
              "      <td>...</td>\n",
              "      <td>...</td>\n",
              "      <td>...</td>\n",
              "      <td>...</td>\n",
              "      <td>...</td>\n",
              "      <td>...</td>\n",
              "      <td>...</td>\n",
              "    </tr>\n",
              "    <tr>\n",
              "      <th>886</th>\n",
              "      <td>887</td>\n",
              "      <td>0</td>\n",
              "      <td>2</td>\n",
              "      <td>Montvila, Rev. Juozas</td>\n",
              "      <td>0</td>\n",
              "      <td>27.0</td>\n",
              "      <td>0</td>\n",
              "      <td>0</td>\n",
              "      <td>211536</td>\n",
              "      <td>13.0000</td>\n",
              "      <td>NaN</td>\n",
              "      <td>S</td>\n",
              "    </tr>\n",
              "    <tr>\n",
              "      <th>887</th>\n",
              "      <td>888</td>\n",
              "      <td>1</td>\n",
              "      <td>1</td>\n",
              "      <td>Graham, Miss. Margaret Edith</td>\n",
              "      <td>1</td>\n",
              "      <td>19.0</td>\n",
              "      <td>0</td>\n",
              "      <td>0</td>\n",
              "      <td>112053</td>\n",
              "      <td>30.0000</td>\n",
              "      <td>B42</td>\n",
              "      <td>S</td>\n",
              "    </tr>\n",
              "    <tr>\n",
              "      <th>888</th>\n",
              "      <td>889</td>\n",
              "      <td>0</td>\n",
              "      <td>3</td>\n",
              "      <td>Johnston, Miss. Catherine Helen \"Carrie\"</td>\n",
              "      <td>1</td>\n",
              "      <td>NaN</td>\n",
              "      <td>1</td>\n",
              "      <td>2</td>\n",
              "      <td>W./C. 6607</td>\n",
              "      <td>23.4500</td>\n",
              "      <td>NaN</td>\n",
              "      <td>S</td>\n",
              "    </tr>\n",
              "    <tr>\n",
              "      <th>889</th>\n",
              "      <td>890</td>\n",
              "      <td>1</td>\n",
              "      <td>1</td>\n",
              "      <td>Behr, Mr. Karl Howell</td>\n",
              "      <td>0</td>\n",
              "      <td>26.0</td>\n",
              "      <td>0</td>\n",
              "      <td>0</td>\n",
              "      <td>111369</td>\n",
              "      <td>30.0000</td>\n",
              "      <td>C148</td>\n",
              "      <td>C</td>\n",
              "    </tr>\n",
              "    <tr>\n",
              "      <th>890</th>\n",
              "      <td>891</td>\n",
              "      <td>0</td>\n",
              "      <td>3</td>\n",
              "      <td>Dooley, Mr. Patrick</td>\n",
              "      <td>0</td>\n",
              "      <td>32.0</td>\n",
              "      <td>0</td>\n",
              "      <td>0</td>\n",
              "      <td>370376</td>\n",
              "      <td>7.7500</td>\n",
              "      <td>NaN</td>\n",
              "      <td>Q</td>\n",
              "    </tr>\n",
              "  </tbody>\n",
              "</table>\n",
              "<p>891 rows × 12 columns</p>\n",
              "</div>\n",
              "    <div class=\"colab-df-buttons\">\n",
              "\n",
              "  <div class=\"colab-df-container\">\n",
              "    <button class=\"colab-df-convert\" onclick=\"convertToInteractive('df-16f0a8ed-8737-4360-b36c-619a6d0162bb')\"\n",
              "            title=\"Convert this dataframe to an interactive table.\"\n",
              "            style=\"display:none;\">\n",
              "\n",
              "  <svg xmlns=\"http://www.w3.org/2000/svg\" height=\"24px\" viewBox=\"0 -960 960 960\">\n",
              "    <path d=\"M120-120v-720h720v720H120Zm60-500h600v-160H180v160Zm220 220h160v-160H400v160Zm0 220h160v-160H400v160ZM180-400h160v-160H180v160Zm440 0h160v-160H620v160ZM180-180h160v-160H180v160Zm440 0h160v-160H620v160Z\"/>\n",
              "  </svg>\n",
              "    </button>\n",
              "\n",
              "  <style>\n",
              "    .colab-df-container {\n",
              "      display:flex;\n",
              "      gap: 12px;\n",
              "    }\n",
              "\n",
              "    .colab-df-convert {\n",
              "      background-color: #E8F0FE;\n",
              "      border: none;\n",
              "      border-radius: 50%;\n",
              "      cursor: pointer;\n",
              "      display: none;\n",
              "      fill: #1967D2;\n",
              "      height: 32px;\n",
              "      padding: 0 0 0 0;\n",
              "      width: 32px;\n",
              "    }\n",
              "\n",
              "    .colab-df-convert:hover {\n",
              "      background-color: #E2EBFA;\n",
              "      box-shadow: 0px 1px 2px rgba(60, 64, 67, 0.3), 0px 1px 3px 1px rgba(60, 64, 67, 0.15);\n",
              "      fill: #174EA6;\n",
              "    }\n",
              "\n",
              "    .colab-df-buttons div {\n",
              "      margin-bottom: 4px;\n",
              "    }\n",
              "\n",
              "    [theme=dark] .colab-df-convert {\n",
              "      background-color: #3B4455;\n",
              "      fill: #D2E3FC;\n",
              "    }\n",
              "\n",
              "    [theme=dark] .colab-df-convert:hover {\n",
              "      background-color: #434B5C;\n",
              "      box-shadow: 0px 1px 3px 1px rgba(0, 0, 0, 0.15);\n",
              "      filter: drop-shadow(0px 1px 2px rgba(0, 0, 0, 0.3));\n",
              "      fill: #FFFFFF;\n",
              "    }\n",
              "  </style>\n",
              "\n",
              "    <script>\n",
              "      const buttonEl =\n",
              "        document.querySelector('#df-16f0a8ed-8737-4360-b36c-619a6d0162bb button.colab-df-convert');\n",
              "      buttonEl.style.display =\n",
              "        google.colab.kernel.accessAllowed ? 'block' : 'none';\n",
              "\n",
              "      async function convertToInteractive(key) {\n",
              "        const element = document.querySelector('#df-16f0a8ed-8737-4360-b36c-619a6d0162bb');\n",
              "        const dataTable =\n",
              "          await google.colab.kernel.invokeFunction('convertToInteractive',\n",
              "                                                    [key], {});\n",
              "        if (!dataTable) return;\n",
              "\n",
              "        const docLinkHtml = 'Like what you see? Visit the ' +\n",
              "          '<a target=\"_blank\" href=https://colab.research.google.com/notebooks/data_table.ipynb>data table notebook</a>'\n",
              "          + ' to learn more about interactive tables.';\n",
              "        element.innerHTML = '';\n",
              "        dataTable['output_type'] = 'display_data';\n",
              "        await google.colab.output.renderOutput(dataTable, element);\n",
              "        const docLink = document.createElement('div');\n",
              "        docLink.innerHTML = docLinkHtml;\n",
              "        element.appendChild(docLink);\n",
              "      }\n",
              "    </script>\n",
              "  </div>\n",
              "\n",
              "\n",
              "<div id=\"df-7cc77aeb-97b4-44c3-a058-f0328c275733\">\n",
              "  <button class=\"colab-df-quickchart\" onclick=\"quickchart('df-7cc77aeb-97b4-44c3-a058-f0328c275733')\"\n",
              "            title=\"Suggest charts\"\n",
              "            style=\"display:none;\">\n",
              "\n",
              "<svg xmlns=\"http://www.w3.org/2000/svg\" height=\"24px\"viewBox=\"0 0 24 24\"\n",
              "     width=\"24px\">\n",
              "    <g>\n",
              "        <path d=\"M19 3H5c-1.1 0-2 .9-2 2v14c0 1.1.9 2 2 2h14c1.1 0 2-.9 2-2V5c0-1.1-.9-2-2-2zM9 17H7v-7h2v7zm4 0h-2V7h2v10zm4 0h-2v-4h2v4z\"/>\n",
              "    </g>\n",
              "</svg>\n",
              "  </button>\n",
              "\n",
              "<style>\n",
              "  .colab-df-quickchart {\n",
              "      --bg-color: #E8F0FE;\n",
              "      --fill-color: #1967D2;\n",
              "      --hover-bg-color: #E2EBFA;\n",
              "      --hover-fill-color: #174EA6;\n",
              "      --disabled-fill-color: #AAA;\n",
              "      --disabled-bg-color: #DDD;\n",
              "  }\n",
              "\n",
              "  [theme=dark] .colab-df-quickchart {\n",
              "      --bg-color: #3B4455;\n",
              "      --fill-color: #D2E3FC;\n",
              "      --hover-bg-color: #434B5C;\n",
              "      --hover-fill-color: #FFFFFF;\n",
              "      --disabled-bg-color: #3B4455;\n",
              "      --disabled-fill-color: #666;\n",
              "  }\n",
              "\n",
              "  .colab-df-quickchart {\n",
              "    background-color: var(--bg-color);\n",
              "    border: none;\n",
              "    border-radius: 50%;\n",
              "    cursor: pointer;\n",
              "    display: none;\n",
              "    fill: var(--fill-color);\n",
              "    height: 32px;\n",
              "    padding: 0;\n",
              "    width: 32px;\n",
              "  }\n",
              "\n",
              "  .colab-df-quickchart:hover {\n",
              "    background-color: var(--hover-bg-color);\n",
              "    box-shadow: 0 1px 2px rgba(60, 64, 67, 0.3), 0 1px 3px 1px rgba(60, 64, 67, 0.15);\n",
              "    fill: var(--button-hover-fill-color);\n",
              "  }\n",
              "\n",
              "  .colab-df-quickchart-complete:disabled,\n",
              "  .colab-df-quickchart-complete:disabled:hover {\n",
              "    background-color: var(--disabled-bg-color);\n",
              "    fill: var(--disabled-fill-color);\n",
              "    box-shadow: none;\n",
              "  }\n",
              "\n",
              "  .colab-df-spinner {\n",
              "    border: 2px solid var(--fill-color);\n",
              "    border-color: transparent;\n",
              "    border-bottom-color: var(--fill-color);\n",
              "    animation:\n",
              "      spin 1s steps(1) infinite;\n",
              "  }\n",
              "\n",
              "  @keyframes spin {\n",
              "    0% {\n",
              "      border-color: transparent;\n",
              "      border-bottom-color: var(--fill-color);\n",
              "      border-left-color: var(--fill-color);\n",
              "    }\n",
              "    20% {\n",
              "      border-color: transparent;\n",
              "      border-left-color: var(--fill-color);\n",
              "      border-top-color: var(--fill-color);\n",
              "    }\n",
              "    30% {\n",
              "      border-color: transparent;\n",
              "      border-left-color: var(--fill-color);\n",
              "      border-top-color: var(--fill-color);\n",
              "      border-right-color: var(--fill-color);\n",
              "    }\n",
              "    40% {\n",
              "      border-color: transparent;\n",
              "      border-right-color: var(--fill-color);\n",
              "      border-top-color: var(--fill-color);\n",
              "    }\n",
              "    60% {\n",
              "      border-color: transparent;\n",
              "      border-right-color: var(--fill-color);\n",
              "    }\n",
              "    80% {\n",
              "      border-color: transparent;\n",
              "      border-right-color: var(--fill-color);\n",
              "      border-bottom-color: var(--fill-color);\n",
              "    }\n",
              "    90% {\n",
              "      border-color: transparent;\n",
              "      border-bottom-color: var(--fill-color);\n",
              "    }\n",
              "  }\n",
              "</style>\n",
              "\n",
              "  <script>\n",
              "    async function quickchart(key) {\n",
              "      const quickchartButtonEl =\n",
              "        document.querySelector('#' + key + ' button');\n",
              "      quickchartButtonEl.disabled = true;  // To prevent multiple clicks.\n",
              "      quickchartButtonEl.classList.add('colab-df-spinner');\n",
              "      try {\n",
              "        const charts = await google.colab.kernel.invokeFunction(\n",
              "            'suggestCharts', [key], {});\n",
              "      } catch (error) {\n",
              "        console.error('Error during call to suggestCharts:', error);\n",
              "      }\n",
              "      quickchartButtonEl.classList.remove('colab-df-spinner');\n",
              "      quickchartButtonEl.classList.add('colab-df-quickchart-complete');\n",
              "    }\n",
              "    (() => {\n",
              "      let quickchartButtonEl =\n",
              "        document.querySelector('#df-7cc77aeb-97b4-44c3-a058-f0328c275733 button');\n",
              "      quickchartButtonEl.style.display =\n",
              "        google.colab.kernel.accessAllowed ? 'block' : 'none';\n",
              "    })();\n",
              "  </script>\n",
              "</div>\n",
              "    </div>\n",
              "  </div>\n"
            ],
            "application/vnd.google.colaboratory.intrinsic+json": {
              "type": "dataframe",
              "variable_name": "training",
              "summary": "{\n  \"name\": \"training\",\n  \"rows\": 891,\n  \"fields\": [\n    {\n      \"column\": \"PassengerId\",\n      \"properties\": {\n        \"dtype\": \"number\",\n        \"std\": 257,\n        \"min\": 1,\n        \"max\": 891,\n        \"num_unique_values\": 891,\n        \"samples\": [\n          710,\n          440,\n          841\n        ],\n        \"semantic_type\": \"\",\n        \"description\": \"\"\n      }\n    },\n    {\n      \"column\": \"Survived\",\n      \"properties\": {\n        \"dtype\": \"number\",\n        \"std\": 0,\n        \"min\": 0,\n        \"max\": 1,\n        \"num_unique_values\": 2,\n        \"samples\": [\n          1,\n          0\n        ],\n        \"semantic_type\": \"\",\n        \"description\": \"\"\n      }\n    },\n    {\n      \"column\": \"Pclass\",\n      \"properties\": {\n        \"dtype\": \"number\",\n        \"std\": 0,\n        \"min\": 1,\n        \"max\": 3,\n        \"num_unique_values\": 3,\n        \"samples\": [\n          3,\n          1\n        ],\n        \"semantic_type\": \"\",\n        \"description\": \"\"\n      }\n    },\n    {\n      \"column\": \"Name\",\n      \"properties\": {\n        \"dtype\": \"string\",\n        \"num_unique_values\": 891,\n        \"samples\": [\n          \"Moubarek, Master. Halim Gonios (\\\"William George\\\")\",\n          \"Kvillner, Mr. Johan Henrik Johannesson\"\n        ],\n        \"semantic_type\": \"\",\n        \"description\": \"\"\n      }\n    },\n    {\n      \"column\": \"Sex\",\n      \"properties\": {\n        \"dtype\": \"number\",\n        \"std\": 0,\n        \"min\": 0,\n        \"max\": 1,\n        \"num_unique_values\": 2,\n        \"samples\": [\n          1,\n          0\n        ],\n        \"semantic_type\": \"\",\n        \"description\": \"\"\n      }\n    },\n    {\n      \"column\": \"Age\",\n      \"properties\": {\n        \"dtype\": \"number\",\n        \"std\": 14.526497332334042,\n        \"min\": 0.42,\n        \"max\": 80.0,\n        \"num_unique_values\": 88,\n        \"samples\": [\n          0.75,\n          22.0\n        ],\n        \"semantic_type\": \"\",\n        \"description\": \"\"\n      }\n    },\n    {\n      \"column\": \"SibSp\",\n      \"properties\": {\n        \"dtype\": \"number\",\n        \"std\": 1,\n        \"min\": 0,\n        \"max\": 8,\n        \"num_unique_values\": 7,\n        \"samples\": [\n          1,\n          0\n        ],\n        \"semantic_type\": \"\",\n        \"description\": \"\"\n      }\n    },\n    {\n      \"column\": \"Parch\",\n      \"properties\": {\n        \"dtype\": \"number\",\n        \"std\": 0,\n        \"min\": 0,\n        \"max\": 6,\n        \"num_unique_values\": 7,\n        \"samples\": [\n          0,\n          1\n        ],\n        \"semantic_type\": \"\",\n        \"description\": \"\"\n      }\n    },\n    {\n      \"column\": \"Ticket\",\n      \"properties\": {\n        \"dtype\": \"string\",\n        \"num_unique_values\": 681,\n        \"samples\": [\n          \"11774\",\n          \"248740\"\n        ],\n        \"semantic_type\": \"\",\n        \"description\": \"\"\n      }\n    },\n    {\n      \"column\": \"Fare\",\n      \"properties\": {\n        \"dtype\": \"number\",\n        \"std\": 49.6934285971809,\n        \"min\": 0.0,\n        \"max\": 512.3292,\n        \"num_unique_values\": 248,\n        \"samples\": [\n          11.2417,\n          51.8625\n        ],\n        \"semantic_type\": \"\",\n        \"description\": \"\"\n      }\n    },\n    {\n      \"column\": \"Cabin\",\n      \"properties\": {\n        \"dtype\": \"category\",\n        \"num_unique_values\": 147,\n        \"samples\": [\n          \"D45\",\n          \"B49\"\n        ],\n        \"semantic_type\": \"\",\n        \"description\": \"\"\n      }\n    },\n    {\n      \"column\": \"Embarked\",\n      \"properties\": {\n        \"dtype\": \"category\",\n        \"num_unique_values\": 3,\n        \"samples\": [\n          \"S\",\n          \"C\"\n        ],\n        \"semantic_type\": \"\",\n        \"description\": \"\"\n      }\n    }\n  ]\n}"
            }
          },
          "metadata": {},
          "execution_count": 5
        }
      ]
    },
    {
      "cell_type": "markdown",
      "source": [
        "**Observation:** We change the value of the sex from male and female to 0 and 1"
      ],
      "metadata": {
        "id": "Lm867Xl2PfdA"
      }
    },
    {
      "cell_type": "markdown",
      "source": [
        "**c) Address Missing Values in the Dataset**\n",
        "\n",
        "The output of the info() method above indicated that about 180 observations are missing the age value. The age\n",
        "value is important to our analysis. We must address these missing values in some way. While not ideal, we can\n",
        "replace these missing age values with the mean of the ages for the entire dataset.\n",
        "\n",
        "This is done by using the fillna() method on the \"Age\" column in the dataset. The fillna() method will\n",
        "change the original dataframe by using the inplace = True argument.\n"
      ],
      "metadata": {
        "id": "vDdzxRb0gY08"
      }
    },
    {
      "cell_type": "code",
      "source": [
        "#code cell 6\n",
        "training[\"Age\"].fillna(training[\"Age\"].mean(), inplace=True)"
      ],
      "metadata": {
        "id": "RMybVf1ngf38"
      },
      "execution_count": null,
      "outputs": []
    },
    {
      "cell_type": "markdown",
      "source": [
        "**d) Verify that the values have been replaced.**"
      ],
      "metadata": {
        "id": "_RxqTZMYgiaS"
      }
    },
    {
      "cell_type": "code",
      "source": [
        "#code cell 7\n",
        "#verify that the missing values for the age variable have been eliminated.\n",
        "training.info()"
      ],
      "metadata": {
        "id": "tgBy3fy3gm7L",
        "colab": {
          "base_uri": "https://localhost:8080/"
        },
        "outputId": "2f070186-8e2d-4b04-9621-65776336ad41"
      },
      "execution_count": null,
      "outputs": [
        {
          "output_type": "stream",
          "name": "stdout",
          "text": [
            "<class 'pandas.core.frame.DataFrame'>\n",
            "RangeIndex: 891 entries, 0 to 890\n",
            "Data columns (total 12 columns):\n",
            " #   Column       Non-Null Count  Dtype  \n",
            "---  ------       --------------  -----  \n",
            " 0   PassengerId  891 non-null    int64  \n",
            " 1   Survived     891 non-null    int64  \n",
            " 2   Pclass       891 non-null    int64  \n",
            " 3   Name         891 non-null    object \n",
            " 4   Sex          891 non-null    int64  \n",
            " 5   Age          891 non-null    float64\n",
            " 6   SibSp        891 non-null    int64  \n",
            " 7   Parch        891 non-null    int64  \n",
            " 8   Ticket       891 non-null    object \n",
            " 9   Fare         891 non-null    float64\n",
            " 10  Cabin        204 non-null    object \n",
            " 11  Embarked     889 non-null    object \n",
            "dtypes: float64(2), int64(6), object(4)\n",
            "memory usage: 83.7+ KB\n"
          ]
        }
      ]
    },
    {
      "cell_type": "markdown",
      "source": [
        "**What is the value that was used to replace the missing ages?**\n"
      ],
      "metadata": {
        "id": "3gYwET4IgoQz"
      }
    },
    {
      "cell_type": "code",
      "source": [
        "#use code to answer the question above\n",
        "\n",
        "# Calculate mean before filling missing values\n",
        "OrigMean = training[\"Age\"].mean()\n",
        "\n",
        "# Fill missing values with the mean\n",
        "training[\"Age\"].fillna(training[\"Age\"].mean(), inplace=True)\n",
        "\n",
        "# Calculate mean after filling missing values\n",
        "NewMean = training[\"Age\"].mean()\n",
        "\n",
        "print(\"Original Mean:\", OrigMean)\n",
        "print(\"New Mean after filling missing values:\", NewMean)"
      ],
      "metadata": {
        "id": "mXs-1WCLgsVT",
        "colab": {
          "base_uri": "https://localhost:8080/"
        },
        "outputId": "cb6c5dfd-1b54-450a-9b21-51d84a58d3b9"
      },
      "execution_count": null,
      "outputs": [
        {
          "output_type": "stream",
          "name": "stdout",
          "text": [
            "Original Mean: 29.69911764705882\n",
            "New Mean after filling missing values: 29.69911764705882\n"
          ]
        }
      ]
    },
    {
      "cell_type": "markdown",
      "source": [
        "answer: Mean 30."
      ],
      "metadata": {
        "id": "rGH_-iAMNZda"
      }
    },
    {
      "cell_type": "markdown",
      "source": [
        "#Step 3: Train and Score the Decision Tree Model."
      ],
      "metadata": {
        "id": "tyjcGUsxguCb"
      }
    },
    {
      "cell_type": "markdown",
      "source": [
        "**a) Create an array object with the variable that will be the target for the model.**\n",
        "\n",
        "The purpose of the model is to classify passengers as survivors or victims. The dataset identifies survivors and\n",
        "victims. The model will learn which input variable values are most likely to belong to victims and survivors, and\n",
        "then use that information to classify passengers from a unique test data set.\n"
      ],
      "metadata": {
        "id": "hoB1ggsggxoL"
      }
    },
    {
      "cell_type": "code",
      "source": [
        "#code cell 8\n",
        "#create the array for the target values\n",
        "y_target = training[\"Survived\"].values"
      ],
      "metadata": {
        "id": "ZcsgdyCyg1pT"
      },
      "execution_count": null,
      "outputs": []
    },
    {
      "cell_type": "markdown",
      "source": [
        "**b) Create an array of the values that will be the input for the model**\n",
        "\n",
        "Only some of the features of the data are useful for creating the classifier tree. We create a list of the columns\n",
        "from the data that we want the classifier to use as the input variables and then create an array using the column\n",
        "name from that variable. The variable X_input holds the values for all the features that the model will use to\n",
        "learn how to make the classifications. After the model is trained, we will use this variable to assign these labels\n",
        "to the test data set."
      ],
      "metadata": {
        "id": "9rBZcHPZg3JD"
      }
    },
    {
      "cell_type": "code",
      "source": [
        "#code cell 9\n",
        "columns = [\"Fare\", \"Pclass\", \"Sex\", \"Age\", \"SibSp\"]\n",
        "#create the variable to hold the features that the classifier will use\n",
        "X_input = training[list(columns)].values"
      ],
      "metadata": {
        "id": "onJg1CJyg6x9"
      },
      "execution_count": null,
      "outputs": []
    },
    {
      "cell_type": "markdown",
      "source": [
        "**c) Create the learned model.**\n",
        "\n",
        "Import the decision tree module from the sklearn machine learning library. Create the classifier object\n",
        "clf_train. Then, use the fit() method of the classifier object, with the X_input and y_target variables as\n",
        "parameters, to train the model."
      ],
      "metadata": {
        "id": "4ljEF3sgg8qb"
      }
    },
    {
      "cell_type": "code",
      "source": [
        "#code cell 10\n",
        "#import the tree module from the sklearn library\n",
        "from sklearn import tree\n",
        "#create clf_train as a decision tree classifier object\n",
        "clf_train = tree.DecisionTreeClassifier(criterion=\"entropy\", max_depth=3)\n",
        "#train the model using the fit() method of the decision tree object.\n",
        "#Supply the method with the input variable X_input and the target variable y_target\n",
        "clf_train = clf_train.fit(X_input, y_target)"
      ],
      "metadata": {
        "id": "dIFhGIVBg_Gr"
      },
      "execution_count": null,
      "outputs": []
    },
    {
      "cell_type": "markdown",
      "source": [
        "**d) Evaluate the model**\n",
        "\n",
        "Use the score() method of the decision tree object to display the percentage accuracy of the assignments\n",
        "made by the classifier. It takes the input and target variables as arguments.\n"
      ],
      "metadata": {
        "id": "DTiVALnphAjT"
      }
    },
    {
      "cell_type": "code",
      "source": [
        "#code cell 11\n",
        "clf_train.score(X_input,y_target)\n"
      ],
      "metadata": {
        "id": "tAoyef-RhDL8",
        "colab": {
          "base_uri": "https://localhost:8080/"
        },
        "outputId": "b43689e8-1813-4eb0-a1cd-c86c93221498"
      },
      "execution_count": null,
      "outputs": [
        {
          "output_type": "execute_result",
          "data": {
            "text/plain": [
              "0.8226711560044894"
            ]
          },
          "metadata": {},
          "execution_count": 13
        }
      ]
    },
    {
      "cell_type": "markdown",
      "source": [
        "This score value indicates that classifications made by the model should be correct approximately 82% of the\n",
        "time.\n"
      ],
      "metadata": {
        "id": "nt5rTnxhhEyz"
      }
    },
    {
      "cell_type": "markdown",
      "source": [
        "##Step 6: Visualize the Tree\n",
        "\n",
        "**a) Create the intermediate file output**\n",
        "\n",
        "Import the sklearn.externals.six StringIO module which is used to output the characteristics of the\n",
        "decision tree to a file. We will create a Graphviz dot file which will allow us to export the results of the classifier\n",
        "into a format that can be converted into a graphic."
      ],
      "metadata": {
        "id": "v78NT2wBhEri"
      }
    },
    {
      "cell_type": "code",
      "source": [
        "import six\n",
        "import sys\n",
        "sys.modules['sklearn.externals.six'] = six"
      ],
      "metadata": {
        "id": "MLeFKAz_wqki"
      },
      "execution_count": null,
      "outputs": []
    },
    {
      "cell_type": "code",
      "source": [
        "#code cell 12\n",
        "from sklearn.externals.six import StringIO\n",
        "with open(\"/content/titanic.dot\", 'w') as f:\n",
        "  f = tree.export_graphviz(clf_train, out_file=f, feature_names=columns)"
      ],
      "metadata": {
        "id": "f7YbcEL5hbQt"
      },
      "execution_count": null,
      "outputs": []
    },
    {
      "cell_type": "markdown",
      "source": [
        "**b) Install Graphviz**\n",
        "\n",
        "To visualize the decision tree, Graphviz needs to be installed from a terminal. The installation requires that a\n",
        "prompt be answered, which can't be done from a notebook code cell. Use the apt-get install graphviz\n",
        "command from the terminal command line to install this software."
      ],
      "metadata": {
        "id": "HhNaLe4ghcrE"
      }
    },
    {
      "cell_type": "code",
      "source": [
        "!apt-get install graphviz"
      ],
      "metadata": {
        "id": "sObsuN6OhgxD",
        "colab": {
          "base_uri": "https://localhost:8080/"
        },
        "outputId": "fb7b9e4d-8d45-4f67-d7e9-06ce6487bb31"
      },
      "execution_count": null,
      "outputs": [
        {
          "output_type": "stream",
          "name": "stdout",
          "text": [
            "Reading package lists... Done\n",
            "Building dependency tree... Done\n",
            "Reading state information... Done\n",
            "graphviz is already the newest version (2.42.2-6).\n",
            "0 upgraded, 0 newly installed, 0 to remove and 35 not upgraded.\n"
          ]
        }
      ]
    },
    {
      "cell_type": "markdown",
      "source": [
        "**c) Convert the intermediate file to a graphic**\n",
        "\n",
        "\n",
        "The dot file that was created above can be converted to a .png file with the graphiz dot renderer. This is a shell\n",
        "command, so use ! before it to run it from this noteblook. The new titanic.png graphic file should appear in the\n",
        "directory that contains this notebook."
      ],
      "metadata": {
        "id": "dcEJ5GpEhhN7"
      }
    },
    {
      "cell_type": "code",
      "source": [
        "#code cell 13\n",
        "#run the Graphviz dot command to convert the .dot file to .png\n",
        "!dot -Tpng /content/titanic.dot -o /content/titanic.png"
      ],
      "metadata": {
        "id": "iKU76rkshl7L"
      },
      "execution_count": null,
      "outputs": []
    },
    {
      "cell_type": "markdown",
      "source": [
        "**d) Display the image**\n",
        "\n",
        "Now we will import the Image module from the IPython.display library. This will allow us to open and display\n",
        "an external graphics file on the notebook page. The Image function is used to display the file, with the .png file\n",
        "name as argument.\n"
      ],
      "metadata": {
        "id": "DglC_RUbhnhU"
      }
    },
    {
      "cell_type": "code",
      "source": [
        "#code cell 14\n",
        "#import the Image module from the Ipython.display libary\n",
        "from IPython.display import Image\n",
        "#display the decison tree graphic\n",
        "Image(\"/content/titanic.png\")"
      ],
      "metadata": {
        "id": "R5OI7z5Ohq1j",
        "colab": {
          "base_uri": "https://localhost:8080/",
          "height": 514
        },
        "outputId": "a0464c76-5007-42e7-bc2c-008dd2e66372"
      },
      "execution_count": null,
      "outputs": [
        {
          "output_type": "execute_result",
          "data": {
            "image/png": "[encoded data removed]",
            "text/plain": [
              "<IPython.core.display.Image object>"
            ]
          },
          "metadata": {},
          "execution_count": 18
        }
      ]
    },
    {
      "cell_type": "markdown",
      "source": [
        "**e) Interpret the tree**\n",
        "\n",
        "From the tree, we can see several things. First, at the root of the tree is the Gender variable, indicating that it is\n",
        "the single most important factor in making the classification. The branches to the left are for Gender = 0 or male.\n",
        "Each root and intermediate node contains the decision factor, the entropy, and the number of passengers who fit\n",
        "the critierion at that point in the tree. For example, the root node indicates that there are 891 observations that\n",
        "make up the learning data set. At the next level, we can see that 577 people were male, and 314 were female. In\n",
        "the third level, at the far right, we can see that 415 people were male and paid a fare of less than 26.2686.\n",
        "Finally, the leaf nodes for that intermediate node indicate that 15 of these passengers were below the age of\n",
        "13.5, and the other 400 were older than that age.\n",
        "\n",
        "Finally, the elements in the value array indicate survival. The first value is the number of people who died, and\n",
        "the second is the number of survivors for each criterion. The root node tells us that out of our sample, 549\n",
        "people died and 342 survived.\n",
        "\n",
        "Entropy is a measure of noise in the decision. Noise can be viewed as uncertainty. For example, in nodes in\n",
        "which the decision results in equal values in the survival value array, the entropy is at its highest possible value,\n",
        "which is 1.0. This means that the model was unable to definitively make the classification decision based on the\n",
        "input variables. For values of very low entropy, the decision was much more clear cut, and the difference in the\n",
        "number of survivors and victims is much higher.\n"
      ],
      "metadata": {
        "id": "jiGu4OHlhsir"
      }
    },
    {
      "cell_type": "markdown",
      "source": [
        "**What describes the group that had the most deaths by number? Which group had the most survivors?**\n",
        "\n",
        "-The highest number of deaths, totaling 359, occurred among males, most of whom were over 13.5 years old and had paid a fare of less than P26.3. Conversely, the group with the most survivors, totaling 152, consisted of females, particularly those in the first and second class cabins, who had paid over P28.9 for their fare."
      ],
      "metadata": {
        "id": "lNUJ9QlIhzq1"
      }
    },
    {
      "cell_type": "markdown",
      "source": [
        "##**Part 2: Apply the Decision Tree Model**\n",
        "\n",
        "In this part of the lab, we will use the results of the learned decision tree model to label an unlabelled dataset of\n",
        "Titanic passengers. The decision tree will evaluate the features of each observation and label the observation as\n",
        "survived (label = 1) or died (label = 0).\n"
      ],
      "metadata": {
        "id": "wzeavNOMh57r"
      }
    },
    {
      "cell_type": "markdown",
      "source": [
        "**Step 1: Import and Prepare the Data**\n",
        "\n",
        "In this step, you will import and prepare the data for analysis.\n"
      ],
      "metadata": {
        "id": "BRI4ARyHiJET"
      }
    },
    {
      "cell_type": "markdown",
      "source": [
        "**a) Import the data**\n",
        "\n",
        "Name the dataframe \"testing\" and import the file titanic-test.csv"
      ],
      "metadata": {
        "id": "ahsGoJ2liLoL"
      }
    },
    {
      "cell_type": "code",
      "source": [
        "#code cell 15\n",
        "#import the file into the 'testing' dataframe.\n",
        "testing = pd.read_csv(\"/content/titanic_test.csv\")"
      ],
      "metadata": {
        "id": "TrZrcIEniCID"
      },
      "execution_count": null,
      "outputs": []
    },
    {
      "cell_type": "code",
      "source": [
        "testing.info()"
      ],
      "metadata": {
        "colab": {
          "base_uri": "https://localhost:8080/"
        },
        "id": "rcJa3KZHrklV",
        "outputId": "7b5ccbe2-c5d0-4f19-bc26-f438cb546bd0"
      },
      "execution_count": null,
      "outputs": [
        {
          "output_type": "stream",
          "name": "stdout",
          "text": [
            "<class 'pandas.core.frame.DataFrame'>\n",
            "RangeIndex: 418 entries, 0 to 417\n",
            "Data columns (total 11 columns):\n",
            " #   Column       Non-Null Count  Dtype  \n",
            "---  ------       --------------  -----  \n",
            " 0   PassengerId  418 non-null    int64  \n",
            " 1   Pclass       418 non-null    int64  \n",
            " 2   Name         418 non-null    object \n",
            " 3   Sex          418 non-null    object \n",
            " 4   Age          332 non-null    float64\n",
            " 5   SibSp        418 non-null    int64  \n",
            " 6   Parch        418 non-null    int64  \n",
            " 7   Ticket       418 non-null    object \n",
            " 8   Fare         417 non-null    float64\n",
            " 9   Cabin        91 non-null     object \n",
            " 10  Embarked     418 non-null    object \n",
            "dtypes: float64(2), int64(4), object(5)\n",
            "memory usage: 36.0+ KB\n"
          ]
        }
      ]
    },
    {
      "cell_type": "markdown",
      "source": [
        "**How many records are in the data set?**\n",
        "\n",
        "- There are 418 records in the data set."
      ],
      "metadata": {
        "id": "hXYlitDLiPJ0"
      }
    },
    {
      "cell_type": "markdown",
      "source": [
        "**Which important variables(s) are missing values and how many are missing?**\n",
        "\n",
        "- There is 86 missing values in the age."
      ],
      "metadata": {
        "id": "yFXmXxMriTwL"
      }
    },
    {
      "cell_type": "markdown",
      "source": [
        "**b) Use a lambda expression to replace the \"male\" and \"female\" values with 0 for male and 1 for\n",
        "female..**\n"
      ],
      "metadata": {
        "id": "fK3nguyAiXQz"
      }
    },
    {
      "cell_type": "code",
      "source": [
        "#code cell 16\n",
        "#replace the Gender labels in the testing dataframe\n",
        "# Hint: look at code cell 4\n",
        "#code cell 4\n",
        "testing[\"Sex\"] = testing[\"Sex\"].apply(lambda toLabel: 0 if toLabel == 'male' else 1)"
      ],
      "metadata": {
        "id": "1oHE9STGiaKt"
      },
      "execution_count": null,
      "outputs": []
    },
    {
      "cell_type": "markdown",
      "source": [
        "**c) Replace the missing age values with the mean of the ages.**"
      ],
      "metadata": {
        "id": "-CQ7W4XficZz"
      }
    },
    {
      "cell_type": "code",
      "source": [
        "#code cell 17\n",
        "#Use the fillna method of the testing dataframe column \"Age\"\n",
        "#to replace missing values with the mean of the age values.\n",
        "testing[\"Age\"].fillna(testing[\"Age\"].mean(), inplace=True)\n"
      ],
      "metadata": {
        "id": "zT-XSgReieuD"
      },
      "execution_count": null,
      "outputs": []
    },
    {
      "cell_type": "markdown",
      "source": [
        "**d) Verify that the values have been replaced.**\n",
        "\n",
        "Check that the missing values have been filled and that the Gender labels are 0 and 1.\n"
      ],
      "metadata": {
        "id": "8gUm6nvAigMX"
      }
    },
    {
      "cell_type": "code",
      "source": [
        "#code cell 18\n",
        "#verify the data preparation steps. Enter and run both the info and head\n",
        "#methods from here, by entering and running one and then the other.\n",
        "\n",
        "testing.info()\n",
        "testing.head()"
      ],
      "metadata": {
        "id": "Uz8Osj8eikdq",
        "colab": {
          "base_uri": "https://localhost:8080/",
          "height": 519
        },
        "outputId": "bd7a24f4-98b1-4c66-dd8f-55e5e1fcdc81"
      },
      "execution_count": null,
      "outputs": [
        {
          "output_type": "stream",
          "name": "stdout",
          "text": [
            "<class 'pandas.core.frame.DataFrame'>\n",
            "RangeIndex: 418 entries, 0 to 417\n",
            "Data columns (total 11 columns):\n",
            " #   Column       Non-Null Count  Dtype  \n",
            "---  ------       --------------  -----  \n",
            " 0   PassengerId  418 non-null    int64  \n",
            " 1   Pclass       418 non-null    int64  \n",
            " 2   Name         418 non-null    object \n",
            " 3   Sex          418 non-null    int64  \n",
            " 4   Age          418 non-null    float64\n",
            " 5   SibSp        418 non-null    int64  \n",
            " 6   Parch        418 non-null    int64  \n",
            " 7   Ticket       418 non-null    object \n",
            " 8   Fare         417 non-null    float64\n",
            " 9   Cabin        91 non-null     object \n",
            " 10  Embarked     418 non-null    object \n",
            "dtypes: float64(2), int64(5), object(4)\n",
            "memory usage: 36.0+ KB\n"
          ]
        },
        {
          "output_type": "execute_result",
          "data": {
            "text/plain": [
              "   PassengerId  Pclass                                          Name  Sex  \\\n",
              "0          892       3                              Kelly, Mr. James    0   \n",
              "1          893       3              Wilkes, Mrs. James (Ellen Needs)    1   \n",
              "2          894       2                     Myles, Mr. Thomas Francis    0   \n",
              "3          895       3                              Wirz, Mr. Albert    0   \n",
              "4          896       3  Hirvonen, Mrs. Alexander (Helga E Lindqvist)    1   \n",
              "\n",
              "    Age  SibSp  Parch   Ticket     Fare Cabin Embarked  \n",
              "0  34.5      0      0   330911   7.8292   NaN        Q  \n",
              "1  47.0      1      0   363272   7.0000   NaN        S  \n",
              "2  62.0      0      0   240276   9.6875   NaN        Q  \n",
              "3  27.0      0      0   315154   8.6625   NaN        S  \n",
              "4  22.0      1      1  3101298  12.2875   NaN        S  "
            ],
            "text/html": [
              "\n",
              "  <div id=\"df-d520d804-8c24-4d3f-817b-ecf7b8ef20c4\" class=\"colab-df-container\">\n",
              "    <div>\n",
              "<style scoped>\n",
              "    .dataframe tbody tr th:only-of-type {\n",
              "        vertical-align: middle;\n",
              "    }\n",
              "\n",
              "    .dataframe tbody tr th {\n",
              "        vertical-align: top;\n",
              "    }\n",
              "\n",
              "    .dataframe thead th {\n",
              "        text-align: right;\n",
              "    }\n",
              "</style>\n",
              "<table border=\"1\" class=\"dataframe\">\n",
              "  <thead>\n",
              "    <tr style=\"text-align: right;\">\n",
              "      <th></th>\n",
              "      <th>PassengerId</th>\n",
              "      <th>Pclass</th>\n",
              "      <th>Name</th>\n",
              "      <th>Sex</th>\n",
              "      <th>Age</th>\n",
              "      <th>SibSp</th>\n",
              "      <th>Parch</th>\n",
              "      <th>Ticket</th>\n",
              "      <th>Fare</th>\n",
              "      <th>Cabin</th>\n",
              "      <th>Embarked</th>\n",
              "    </tr>\n",
              "  </thead>\n",
              "  <tbody>\n",
              "    <tr>\n",
              "      <th>0</th>\n",
              "      <td>892</td>\n",
              "      <td>3</td>\n",
              "      <td>Kelly, Mr. James</td>\n",
              "      <td>0</td>\n",
              "      <td>34.5</td>\n",
              "      <td>0</td>\n",
              "      <td>0</td>\n",
              "      <td>330911</td>\n",
              "      <td>7.8292</td>\n",
              "      <td>NaN</td>\n",
              "      <td>Q</td>\n",
              "    </tr>\n",
              "    <tr>\n",
              "      <th>1</th>\n",
              "      <td>893</td>\n",
              "      <td>3</td>\n",
              "      <td>Wilkes, Mrs. James (Ellen Needs)</td>\n",
              "      <td>1</td>\n",
              "      <td>47.0</td>\n",
              "      <td>1</td>\n",
              "      <td>0</td>\n",
              "      <td>363272</td>\n",
              "      <td>7.0000</td>\n",
              "      <td>NaN</td>\n",
              "      <td>S</td>\n",
              "    </tr>\n",
              "    <tr>\n",
              "      <th>2</th>\n",
              "      <td>894</td>\n",
              "      <td>2</td>\n",
              "      <td>Myles, Mr. Thomas Francis</td>\n",
              "      <td>0</td>\n",
              "      <td>62.0</td>\n",
              "      <td>0</td>\n",
              "      <td>0</td>\n",
              "      <td>240276</td>\n",
              "      <td>9.6875</td>\n",
              "      <td>NaN</td>\n",
              "      <td>Q</td>\n",
              "    </tr>\n",
              "    <tr>\n",
              "      <th>3</th>\n",
              "      <td>895</td>\n",
              "      <td>3</td>\n",
              "      <td>Wirz, Mr. Albert</td>\n",
              "      <td>0</td>\n",
              "      <td>27.0</td>\n",
              "      <td>0</td>\n",
              "      <td>0</td>\n",
              "      <td>315154</td>\n",
              "      <td>8.6625</td>\n",
              "      <td>NaN</td>\n",
              "      <td>S</td>\n",
              "    </tr>\n",
              "    <tr>\n",
              "      <th>4</th>\n",
              "      <td>896</td>\n",
              "      <td>3</td>\n",
              "      <td>Hirvonen, Mrs. Alexander (Helga E Lindqvist)</td>\n",
              "      <td>1</td>\n",
              "      <td>22.0</td>\n",
              "      <td>1</td>\n",
              "      <td>1</td>\n",
              "      <td>3101298</td>\n",
              "      <td>12.2875</td>\n",
              "      <td>NaN</td>\n",
              "      <td>S</td>\n",
              "    </tr>\n",
              "  </tbody>\n",
              "</table>\n",
              "</div>\n",
              "    <div class=\"colab-df-buttons\">\n",
              "\n",
              "  <div class=\"colab-df-container\">\n",
              "    <button class=\"colab-df-convert\" onclick=\"convertToInteractive('df-d520d804-8c24-4d3f-817b-ecf7b8ef20c4')\"\n",
              "            title=\"Convert this dataframe to an interactive table.\"\n",
              "            style=\"display:none;\">\n",
              "\n",
              "  <svg xmlns=\"http://www.w3.org/2000/svg\" height=\"24px\" viewBox=\"0 -960 960 960\">\n",
              "    <path d=\"M120-120v-720h720v720H120Zm60-500h600v-160H180v160Zm220 220h160v-160H400v160Zm0 220h160v-160H400v160ZM180-400h160v-160H180v160Zm440 0h160v-160H620v160ZM180-180h160v-160H180v160Zm440 0h160v-160H620v160Z\"/>\n",
              "  </svg>\n",
              "    </button>\n",
              "\n",
              "  <style>\n",
              "    .colab-df-container {\n",
              "      display:flex;\n",
              "      gap: 12px;\n",
              "    }\n",
              "\n",
              "    .colab-df-convert {\n",
              "      background-color: #E8F0FE;\n",
              "      border: none;\n",
              "      border-radius: 50%;\n",
              "      cursor: pointer;\n",
              "      display: none;\n",
              "      fill: #1967D2;\n",
              "      height: 32px;\n",
              "      padding: 0 0 0 0;\n",
              "      width: 32px;\n",
              "    }\n",
              "\n",
              "    .colab-df-convert:hover {\n",
              "      background-color: #E2EBFA;\n",
              "      box-shadow: 0px 1px 2px rgba(60, 64, 67, 0.3), 0px 1px 3px 1px rgba(60, 64, 67, 0.15);\n",
              "      fill: #174EA6;\n",
              "    }\n",
              "\n",
              "    .colab-df-buttons div {\n",
              "      margin-bottom: 4px;\n",
              "    }\n",
              "\n",
              "    [theme=dark] .colab-df-convert {\n",
              "      background-color: #3B4455;\n",
              "      fill: #D2E3FC;\n",
              "    }\n",
              "\n",
              "    [theme=dark] .colab-df-convert:hover {\n",
              "      background-color: #434B5C;\n",
              "      box-shadow: 0px 1px 3px 1px rgba(0, 0, 0, 0.15);\n",
              "      filter: drop-shadow(0px 1px 2px rgba(0, 0, 0, 0.3));\n",
              "      fill: #FFFFFF;\n",
              "    }\n",
              "  </style>\n",
              "\n",
              "    <script>\n",
              "      const buttonEl =\n",
              "        document.querySelector('#df-d520d804-8c24-4d3f-817b-ecf7b8ef20c4 button.colab-df-convert');\n",
              "      buttonEl.style.display =\n",
              "        google.colab.kernel.accessAllowed ? 'block' : 'none';\n",
              "\n",
              "      async function convertToInteractive(key) {\n",
              "        const element = document.querySelector('#df-d520d804-8c24-4d3f-817b-ecf7b8ef20c4');\n",
              "        const dataTable =\n",
              "          await google.colab.kernel.invokeFunction('convertToInteractive',\n",
              "                                                    [key], {});\n",
              "        if (!dataTable) return;\n",
              "\n",
              "        const docLinkHtml = 'Like what you see? Visit the ' +\n",
              "          '<a target=\"_blank\" href=https://colab.research.google.com/notebooks/data_table.ipynb>data table notebook</a>'\n",
              "          + ' to learn more about interactive tables.';\n",
              "        element.innerHTML = '';\n",
              "        dataTable['output_type'] = 'display_data';\n",
              "        await google.colab.output.renderOutput(dataTable, element);\n",
              "        const docLink = document.createElement('div');\n",
              "        docLink.innerHTML = docLinkHtml;\n",
              "        element.appendChild(docLink);\n",
              "      }\n",
              "    </script>\n",
              "  </div>\n",
              "\n",
              "\n",
              "<div id=\"df-0c860c1b-d692-488c-a9bf-374c1950da29\">\n",
              "  <button class=\"colab-df-quickchart\" onclick=\"quickchart('df-0c860c1b-d692-488c-a9bf-374c1950da29')\"\n",
              "            title=\"Suggest charts\"\n",
              "            style=\"display:none;\">\n",
              "\n",
              "<svg xmlns=\"http://www.w3.org/2000/svg\" height=\"24px\"viewBox=\"0 0 24 24\"\n",
              "     width=\"24px\">\n",
              "    <g>\n",
              "        <path d=\"M19 3H5c-1.1 0-2 .9-2 2v14c0 1.1.9 2 2 2h14c1.1 0 2-.9 2-2V5c0-1.1-.9-2-2-2zM9 17H7v-7h2v7zm4 0h-2V7h2v10zm4 0h-2v-4h2v4z\"/>\n",
              "    </g>\n",
              "</svg>\n",
              "  </button>\n",
              "\n",
              "<style>\n",
              "  .colab-df-quickchart {\n",
              "      --bg-color: #E8F0FE;\n",
              "      --fill-color: #1967D2;\n",
              "      --hover-bg-color: #E2EBFA;\n",
              "      --hover-fill-color: #174EA6;\n",
              "      --disabled-fill-color: #AAA;\n",
              "      --disabled-bg-color: #DDD;\n",
              "  }\n",
              "\n",
              "  [theme=dark] .colab-df-quickchart {\n",
              "      --bg-color: #3B4455;\n",
              "      --fill-color: #D2E3FC;\n",
              "      --hover-bg-color: #434B5C;\n",
              "      --hover-fill-color: #FFFFFF;\n",
              "      --disabled-bg-color: #3B4455;\n",
              "      --disabled-fill-color: #666;\n",
              "  }\n",
              "\n",
              "  .colab-df-quickchart {\n",
              "    background-color: var(--bg-color);\n",
              "    border: none;\n",
              "    border-radius: 50%;\n",
              "    cursor: pointer;\n",
              "    display: none;\n",
              "    fill: var(--fill-color);\n",
              "    height: 32px;\n",
              "    padding: 0;\n",
              "    width: 32px;\n",
              "  }\n",
              "\n",
              "  .colab-df-quickchart:hover {\n",
              "    background-color: var(--hover-bg-color);\n",
              "    box-shadow: 0 1px 2px rgba(60, 64, 67, 0.3), 0 1px 3px 1px rgba(60, 64, 67, 0.15);\n",
              "    fill: var(--button-hover-fill-color);\n",
              "  }\n",
              "\n",
              "  .colab-df-quickchart-complete:disabled,\n",
              "  .colab-df-quickchart-complete:disabled:hover {\n",
              "    background-color: var(--disabled-bg-color);\n",
              "    fill: var(--disabled-fill-color);\n",
              "    box-shadow: none;\n",
              "  }\n",
              "\n",
              "  .colab-df-spinner {\n",
              "    border: 2px solid var(--fill-color);\n",
              "    border-color: transparent;\n",
              "    border-bottom-color: var(--fill-color);\n",
              "    animation:\n",
              "      spin 1s steps(1) infinite;\n",
              "  }\n",
              "\n",
              "  @keyframes spin {\n",
              "    0% {\n",
              "      border-color: transparent;\n",
              "      border-bottom-color: var(--fill-color);\n",
              "      border-left-color: var(--fill-color);\n",
              "    }\n",
              "    20% {\n",
              "      border-color: transparent;\n",
              "      border-left-color: var(--fill-color);\n",
              "      border-top-color: var(--fill-color);\n",
              "    }\n",
              "    30% {\n",
              "      border-color: transparent;\n",
              "      border-left-color: var(--fill-color);\n",
              "      border-top-color: var(--fill-color);\n",
              "      border-right-color: var(--fill-color);\n",
              "    }\n",
              "    40% {\n",
              "      border-color: transparent;\n",
              "      border-right-color: var(--fill-color);\n",
              "      border-top-color: var(--fill-color);\n",
              "    }\n",
              "    60% {\n",
              "      border-color: transparent;\n",
              "      border-right-color: var(--fill-color);\n",
              "    }\n",
              "    80% {\n",
              "      border-color: transparent;\n",
              "      border-right-color: var(--fill-color);\n",
              "      border-bottom-color: var(--fill-color);\n",
              "    }\n",
              "    90% {\n",
              "      border-color: transparent;\n",
              "      border-bottom-color: var(--fill-color);\n",
              "    }\n",
              "  }\n",
              "</style>\n",
              "\n",
              "  <script>\n",
              "    async function quickchart(key) {\n",
              "      const quickchartButtonEl =\n",
              "        document.querySelector('#' + key + ' button');\n",
              "      quickchartButtonEl.disabled = true;  // To prevent multiple clicks.\n",
              "      quickchartButtonEl.classList.add('colab-df-spinner');\n",
              "      try {\n",
              "        const charts = await google.colab.kernel.invokeFunction(\n",
              "            'suggestCharts', [key], {});\n",
              "      } catch (error) {\n",
              "        console.error('Error during call to suggestCharts:', error);\n",
              "      }\n",
              "      quickchartButtonEl.classList.remove('colab-df-spinner');\n",
              "      quickchartButtonEl.classList.add('colab-df-quickchart-complete');\n",
              "    }\n",
              "    (() => {\n",
              "      let quickchartButtonEl =\n",
              "        document.querySelector('#df-0c860c1b-d692-488c-a9bf-374c1950da29 button');\n",
              "      quickchartButtonEl.style.display =\n",
              "        google.colab.kernel.accessAllowed ? 'block' : 'none';\n",
              "    })();\n",
              "  </script>\n",
              "</div>\n",
              "    </div>\n",
              "  </div>\n"
            ],
            "application/vnd.google.colaboratory.intrinsic+json": {
              "type": "dataframe",
              "variable_name": "testing",
              "summary": "{\n  \"name\": \"testing\",\n  \"rows\": 418,\n  \"fields\": [\n    {\n      \"column\": \"PassengerId\",\n      \"properties\": {\n        \"dtype\": \"number\",\n        \"std\": 120,\n        \"min\": 892,\n        \"max\": 1309,\n        \"num_unique_values\": 418,\n        \"samples\": [\n          1213,\n          1216,\n          1280\n        ],\n        \"semantic_type\": \"\",\n        \"description\": \"\"\n      }\n    },\n    {\n      \"column\": \"Pclass\",\n      \"properties\": {\n        \"dtype\": \"number\",\n        \"std\": 0,\n        \"min\": 1,\n        \"max\": 3,\n        \"num_unique_values\": 3,\n        \"samples\": [\n          3,\n          2,\n          1\n        ],\n        \"semantic_type\": \"\",\n        \"description\": \"\"\n      }\n    },\n    {\n      \"column\": \"Name\",\n      \"properties\": {\n        \"dtype\": \"string\",\n        \"num_unique_values\": 418,\n        \"samples\": [\n          \"Krekorian, Mr. Neshan\",\n          \"Kreuchen, Miss. Emilie\",\n          \"Canavan, Mr. Patrick\"\n        ],\n        \"semantic_type\": \"\",\n        \"description\": \"\"\n      }\n    },\n    {\n      \"column\": \"Sex\",\n      \"properties\": {\n        \"dtype\": \"number\",\n        \"std\": 0,\n        \"min\": 0,\n        \"max\": 1,\n        \"num_unique_values\": 2,\n        \"samples\": [\n          1,\n          0\n        ],\n        \"semantic_type\": \"\",\n        \"description\": \"\"\n      }\n    },\n    {\n      \"column\": \"Age\",\n      \"properties\": {\n        \"dtype\": \"number\",\n        \"std\": 12.634534168325064,\n        \"min\": 0.17,\n        \"max\": 76.0,\n        \"num_unique_values\": 80,\n        \"samples\": [\n          28.0,\n          34.5\n        ],\n        \"semantic_type\": \"\",\n        \"description\": \"\"\n      }\n    },\n    {\n      \"column\": \"SibSp\",\n      \"properties\": {\n        \"dtype\": \"number\",\n        \"std\": 0,\n        \"min\": 0,\n        \"max\": 8,\n        \"num_unique_values\": 7,\n        \"samples\": [\n          0,\n          1\n        ],\n        \"semantic_type\": \"\",\n        \"description\": \"\"\n      }\n    },\n    {\n      \"column\": \"Parch\",\n      \"properties\": {\n        \"dtype\": \"number\",\n        \"std\": 0,\n        \"min\": 0,\n        \"max\": 9,\n        \"num_unique_values\": 8,\n        \"samples\": [\n          1,\n          6\n        ],\n        \"semantic_type\": \"\",\n        \"description\": \"\"\n      }\n    },\n    {\n      \"column\": \"Ticket\",\n      \"properties\": {\n        \"dtype\": \"string\",\n        \"num_unique_values\": 363,\n        \"samples\": [\n          \"2673\",\n          \"W./C. 6607\"\n        ],\n        \"semantic_type\": \"\",\n        \"description\": \"\"\n      }\n    },\n    {\n      \"column\": \"Fare\",\n      \"properties\": {\n        \"dtype\": \"number\",\n        \"std\": 55.907576179973844,\n        \"min\": 0.0,\n        \"max\": 512.3292,\n        \"num_unique_values\": 169,\n        \"samples\": [\n          41.5792,\n          57.75\n        ],\n        \"semantic_type\": \"\",\n        \"description\": \"\"\n      }\n    },\n    {\n      \"column\": \"Cabin\",\n      \"properties\": {\n        \"dtype\": \"category\",\n        \"num_unique_values\": 76,\n        \"samples\": [\n          \"A21\",\n          \"E45\"\n        ],\n        \"semantic_type\": \"\",\n        \"description\": \"\"\n      }\n    },\n    {\n      \"column\": \"Embarked\",\n      \"properties\": {\n        \"dtype\": \"category\",\n        \"num_unique_values\": 3,\n        \"samples\": [\n          \"Q\",\n          \"S\"\n        ],\n        \"semantic_type\": \"\",\n        \"description\": \"\"\n      }\n    }\n  ]\n}"
            }
          },
          "metadata": {},
          "execution_count": 23
        }
      ]
    },
    {
      "cell_type": "markdown",
      "source": [
        "#Step 2: Label the testing dataset\n",
        "\n",
        "In this step, you will apply the learned model to the testing dataset.\n"
      ],
      "metadata": {
        "id": "tHFyDLJuilzt"
      }
    },
    {
      "cell_type": "markdown",
      "source": [
        "**a) Create the array of input variables from the testing data set.**"
      ],
      "metadata": {
        "id": "8TztRTlHiqTj"
      }
    },
    {
      "cell_type": "code",
      "source": [
        "#code cell 19\n",
        "#create the variable X_input to hold the features that the classifier will use\n",
        "X_input = testing[list(columns)].values"
      ],
      "metadata": {
        "id": "0Ojq324VisZr"
      },
      "execution_count": null,
      "outputs": []
    },
    {
      "cell_type": "markdown",
      "source": [
        "**b) Apply the model to the testing data set.**\n",
        "\n",
        "Use the predict() method of the clf_train object that was trained to label the observations in the testing data\n",
        "set with the most likely survival classification. Provide the array of input variables from the testing data set as the\n",
        "parameter for this method."
      ],
      "metadata": {
        "id": "mezWXXdriuVj"
      }
    },
    {
      "cell_type": "code",
      "source": [
        "#code cell 20\n",
        "#apply the model to the testing data and store the result in a pandas dataframe.\n",
        "#Use X_input as the argurment for the predict() method of the clf_train classifier object\n",
        "from sklearn.impute import SimpleImputer\n",
        "target_labels = clf_train.predict(SimpleImputer(strategy='mean').fit_transform(X_input))\n",
        "#convert the target array into a pandas dataframe using the pd.DataFrame() method and target as argument\n",
        "target_labels = pd.DataFrame({'Est_Survival': target_labels, 'Name': testing['Name']})\n",
        "#display the first few rows of the data set\n",
        "target_labels.head()\n"
      ],
      "metadata": {
        "id": "reCgKLXfixX7",
        "colab": {
          "base_uri": "https://localhost:8080/",
          "height": 206
        },
        "outputId": "ea51d02e-3ea6-4ca1-bca1-a232149697f8"
      },
      "execution_count": null,
      "outputs": [
        {
          "output_type": "execute_result",
          "data": {
            "text/plain": [
              "   Est_Survival                                          Name\n",
              "0             0                              Kelly, Mr. James\n",
              "1             1              Wilkes, Mrs. James (Ellen Needs)\n",
              "2             0                     Myles, Mr. Thomas Francis\n",
              "3             0                              Wirz, Mr. Albert\n",
              "4             1  Hirvonen, Mrs. Alexander (Helga E Lindqvist)"
            ],
            "text/html": [
              "\n",
              "  <div id=\"df-dd88a802-3dda-4852-8a8a-f7c866c8f26d\" class=\"colab-df-container\">\n",
              "    <div>\n",
              "<style scoped>\n",
              "    .dataframe tbody tr th:only-of-type {\n",
              "        vertical-align: middle;\n",
              "    }\n",
              "\n",
              "    .dataframe tbody tr th {\n",
              "        vertical-align: top;\n",
              "    }\n",
              "\n",
              "    .dataframe thead th {\n",
              "        text-align: right;\n",
              "    }\n",
              "</style>\n",
              "<table border=\"1\" class=\"dataframe\">\n",
              "  <thead>\n",
              "    <tr style=\"text-align: right;\">\n",
              "      <th></th>\n",
              "      <th>Est_Survival</th>\n",
              "      <th>Name</th>\n",
              "    </tr>\n",
              "  </thead>\n",
              "  <tbody>\n",
              "    <tr>\n",
              "      <th>0</th>\n",
              "      <td>0</td>\n",
              "      <td>Kelly, Mr. James</td>\n",
              "    </tr>\n",
              "    <tr>\n",
              "      <th>1</th>\n",
              "      <td>1</td>\n",
              "      <td>Wilkes, Mrs. James (Ellen Needs)</td>\n",
              "    </tr>\n",
              "    <tr>\n",
              "      <th>2</th>\n",
              "      <td>0</td>\n",
              "      <td>Myles, Mr. Thomas Francis</td>\n",
              "    </tr>\n",
              "    <tr>\n",
              "      <th>3</th>\n",
              "      <td>0</td>\n",
              "      <td>Wirz, Mr. Albert</td>\n",
              "    </tr>\n",
              "    <tr>\n",
              "      <th>4</th>\n",
              "      <td>1</td>\n",
              "      <td>Hirvonen, Mrs. Alexander (Helga E Lindqvist)</td>\n",
              "    </tr>\n",
              "  </tbody>\n",
              "</table>\n",
              "</div>\n",
              "    <div class=\"colab-df-buttons\">\n",
              "\n",
              "  <div class=\"colab-df-container\">\n",
              "    <button class=\"colab-df-convert\" onclick=\"convertToInteractive('df-dd88a802-3dda-4852-8a8a-f7c866c8f26d')\"\n",
              "            title=\"Convert this dataframe to an interactive table.\"\n",
              "            style=\"display:none;\">\n",
              "\n",
              "  <svg xmlns=\"http://www.w3.org/2000/svg\" height=\"24px\" viewBox=\"0 -960 960 960\">\n",
              "    <path d=\"M120-120v-720h720v720H120Zm60-500h600v-160H180v160Zm220 220h160v-160H400v160Zm0 220h160v-160H400v160ZM180-400h160v-160H180v160Zm440 0h160v-160H620v160ZM180-180h160v-160H180v160Zm440 0h160v-160H620v160Z\"/>\n",
              "  </svg>\n",
              "    </button>\n",
              "\n",
              "  <style>\n",
              "    .colab-df-container {\n",
              "      display:flex;\n",
              "      gap: 12px;\n",
              "    }\n",
              "\n",
              "    .colab-df-convert {\n",
              "      background-color: #E8F0FE;\n",
              "      border: none;\n",
              "      border-radius: 50%;\n",
              "      cursor: pointer;\n",
              "      display: none;\n",
              "      fill: #1967D2;\n",
              "      height: 32px;\n",
              "      padding: 0 0 0 0;\n",
              "      width: 32px;\n",
              "    }\n",
              "\n",
              "    .colab-df-convert:hover {\n",
              "      background-color: #E2EBFA;\n",
              "      box-shadow: 0px 1px 2px rgba(60, 64, 67, 0.3), 0px 1px 3px 1px rgba(60, 64, 67, 0.15);\n",
              "      fill: #174EA6;\n",
              "    }\n",
              "\n",
              "    .colab-df-buttons div {\n",
              "      margin-bottom: 4px;\n",
              "    }\n",
              "\n",
              "    [theme=dark] .colab-df-convert {\n",
              "      background-color: #3B4455;\n",
              "      fill: #D2E3FC;\n",
              "    }\n",
              "\n",
              "    [theme=dark] .colab-df-convert:hover {\n",
              "      background-color: #434B5C;\n",
              "      box-shadow: 0px 1px 3px 1px rgba(0, 0, 0, 0.15);\n",
              "      filter: drop-shadow(0px 1px 2px rgba(0, 0, 0, 0.3));\n",
              "      fill: #FFFFFF;\n",
              "    }\n",
              "  </style>\n",
              "\n",
              "    <script>\n",
              "      const buttonEl =\n",
              "        document.querySelector('#df-dd88a802-3dda-4852-8a8a-f7c866c8f26d button.colab-df-convert');\n",
              "      buttonEl.style.display =\n",
              "        google.colab.kernel.accessAllowed ? 'block' : 'none';\n",
              "\n",
              "      async function convertToInteractive(key) {\n",
              "        const element = document.querySelector('#df-dd88a802-3dda-4852-8a8a-f7c866c8f26d');\n",
              "        const dataTable =\n",
              "          await google.colab.kernel.invokeFunction('convertToInteractive',\n",
              "                                                    [key], {});\n",
              "        if (!dataTable) return;\n",
              "\n",
              "        const docLinkHtml = 'Like what you see? Visit the ' +\n",
              "          '<a target=\"_blank\" href=https://colab.research.google.com/notebooks/data_table.ipynb>data table notebook</a>'\n",
              "          + ' to learn more about interactive tables.';\n",
              "        element.innerHTML = '';\n",
              "        dataTable['output_type'] = 'display_data';\n",
              "        await google.colab.output.renderOutput(dataTable, element);\n",
              "        const docLink = document.createElement('div');\n",
              "        docLink.innerHTML = docLinkHtml;\n",
              "        element.appendChild(docLink);\n",
              "      }\n",
              "    </script>\n",
              "  </div>\n",
              "\n",
              "\n",
              "<div id=\"df-3d180602-49d9-4846-ae15-fa19c778d391\">\n",
              "  <button class=\"colab-df-quickchart\" onclick=\"quickchart('df-3d180602-49d9-4846-ae15-fa19c778d391')\"\n",
              "            title=\"Suggest charts\"\n",
              "            style=\"display:none;\">\n",
              "\n",
              "<svg xmlns=\"http://www.w3.org/2000/svg\" height=\"24px\"viewBox=\"0 0 24 24\"\n",
              "     width=\"24px\">\n",
              "    <g>\n",
              "        <path d=\"M19 3H5c-1.1 0-2 .9-2 2v14c0 1.1.9 2 2 2h14c1.1 0 2-.9 2-2V5c0-1.1-.9-2-2-2zM9 17H7v-7h2v7zm4 0h-2V7h2v10zm4 0h-2v-4h2v4z\"/>\n",
              "    </g>\n",
              "</svg>\n",
              "  </button>\n",
              "\n",
              "<style>\n",
              "  .colab-df-quickchart {\n",
              "      --bg-color: #E8F0FE;\n",
              "      --fill-color: #1967D2;\n",
              "      --hover-bg-color: #E2EBFA;\n",
              "      --hover-fill-color: #174EA6;\n",
              "      --disabled-fill-color: #AAA;\n",
              "      --disabled-bg-color: #DDD;\n",
              "  }\n",
              "\n",
              "  [theme=dark] .colab-df-quickchart {\n",
              "      --bg-color: #3B4455;\n",
              "      --fill-color: #D2E3FC;\n",
              "      --hover-bg-color: #434B5C;\n",
              "      --hover-fill-color: #FFFFFF;\n",
              "      --disabled-bg-color: #3B4455;\n",
              "      --disabled-fill-color: #666;\n",
              "  }\n",
              "\n",
              "  .colab-df-quickchart {\n",
              "    background-color: var(--bg-color);\n",
              "    border: none;\n",
              "    border-radius: 50%;\n",
              "    cursor: pointer;\n",
              "    display: none;\n",
              "    fill: var(--fill-color);\n",
              "    height: 32px;\n",
              "    padding: 0;\n",
              "    width: 32px;\n",
              "  }\n",
              "\n",
              "  .colab-df-quickchart:hover {\n",
              "    background-color: var(--hover-bg-color);\n",
              "    box-shadow: 0 1px 2px rgba(60, 64, 67, 0.3), 0 1px 3px 1px rgba(60, 64, 67, 0.15);\n",
              "    fill: var(--button-hover-fill-color);\n",
              "  }\n",
              "\n",
              "  .colab-df-quickchart-complete:disabled,\n",
              "  .colab-df-quickchart-complete:disabled:hover {\n",
              "    background-color: var(--disabled-bg-color);\n",
              "    fill: var(--disabled-fill-color);\n",
              "    box-shadow: none;\n",
              "  }\n",
              "\n",
              "  .colab-df-spinner {\n",
              "    border: 2px solid var(--fill-color);\n",
              "    border-color: transparent;\n",
              "    border-bottom-color: var(--fill-color);\n",
              "    animation:\n",
              "      spin 1s steps(1) infinite;\n",
              "  }\n",
              "\n",
              "  @keyframes spin {\n",
              "    0% {\n",
              "      border-color: transparent;\n",
              "      border-bottom-color: var(--fill-color);\n",
              "      border-left-color: var(--fill-color);\n",
              "    }\n",
              "    20% {\n",
              "      border-color: transparent;\n",
              "      border-left-color: var(--fill-color);\n",
              "      border-top-color: var(--fill-color);\n",
              "    }\n",
              "    30% {\n",
              "      border-color: transparent;\n",
              "      border-left-color: var(--fill-color);\n",
              "      border-top-color: var(--fill-color);\n",
              "      border-right-color: var(--fill-color);\n",
              "    }\n",
              "    40% {\n",
              "      border-color: transparent;\n",
              "      border-right-color: var(--fill-color);\n",
              "      border-top-color: var(--fill-color);\n",
              "    }\n",
              "    60% {\n",
              "      border-color: transparent;\n",
              "      border-right-color: var(--fill-color);\n",
              "    }\n",
              "    80% {\n",
              "      border-color: transparent;\n",
              "      border-right-color: var(--fill-color);\n",
              "      border-bottom-color: var(--fill-color);\n",
              "    }\n",
              "    90% {\n",
              "      border-color: transparent;\n",
              "      border-bottom-color: var(--fill-color);\n",
              "    }\n",
              "  }\n",
              "</style>\n",
              "\n",
              "  <script>\n",
              "    async function quickchart(key) {\n",
              "      const quickchartButtonEl =\n",
              "        document.querySelector('#' + key + ' button');\n",
              "      quickchartButtonEl.disabled = true;  // To prevent multiple clicks.\n",
              "      quickchartButtonEl.classList.add('colab-df-spinner');\n",
              "      try {\n",
              "        const charts = await google.colab.kernel.invokeFunction(\n",
              "            'suggestCharts', [key], {});\n",
              "      } catch (error) {\n",
              "        console.error('Error during call to suggestCharts:', error);\n",
              "      }\n",
              "      quickchartButtonEl.classList.remove('colab-df-spinner');\n",
              "      quickchartButtonEl.classList.add('colab-df-quickchart-complete');\n",
              "    }\n",
              "    (() => {\n",
              "      let quickchartButtonEl =\n",
              "        document.querySelector('#df-3d180602-49d9-4846-ae15-fa19c778d391 button');\n",
              "      quickchartButtonEl.style.display =\n",
              "        google.colab.kernel.accessAllowed ? 'block' : 'none';\n",
              "    })();\n",
              "  </script>\n",
              "</div>\n",
              "    </div>\n",
              "  </div>\n"
            ],
            "application/vnd.google.colaboratory.intrinsic+json": {
              "type": "dataframe",
              "variable_name": "target_labels",
              "summary": "{\n  \"name\": \"target_labels\",\n  \"rows\": 418,\n  \"fields\": [\n    {\n      \"column\": \"Est_Survival\",\n      \"properties\": {\n        \"dtype\": \"number\",\n        \"std\": 0,\n        \"min\": 0,\n        \"max\": 1,\n        \"num_unique_values\": 2,\n        \"samples\": [\n          1,\n          0\n        ],\n        \"semantic_type\": \"\",\n        \"description\": \"\"\n      }\n    },\n    {\n      \"column\": \"Name\",\n      \"properties\": {\n        \"dtype\": \"string\",\n        \"num_unique_values\": 418,\n        \"samples\": [\n          \"Krekorian, Mr. Neshan\",\n          \"Kreuchen, Miss. Emilie\"\n        ],\n        \"semantic_type\": \"\",\n        \"description\": \"\"\n      }\n    }\n  ]\n}"
            }
          },
          "metadata": {},
          "execution_count": 25
        }
      ]
    },
    {
      "cell_type": "markdown",
      "source": [
        "**c) Evaluate the accuracy of the estimated labels**\n",
        "\n",
        "The ground truth for the survival of each passenger can be found in another file called all_data.csv. To select\n",
        "only the passengers contained in the testing dataset, we merge the target_labels dataframe and the\n",
        "all_data dataframe on the field Name. We then compare the estimated label with the ground truth dataframe\n",
        "and compute the accuracy of the learned model.\n"
      ],
      "metadata": {
        "id": "a-kix6f1iy37"
      }
    },
    {
      "cell_type": "code",
      "source": [
        "#code cell 21\n",
        "#import the numpy library as np\n",
        "import numpy as np\n",
        "# Load data for all passengers in the variable all_data\n",
        "all_data = pd.read_csv(\"/content/titanic_all.csv\")\n",
        "# Merging using the field Name as key, selects only the rows of the two datasets that refer to the same passenger\n",
        "testing_results = pd.merge(target_labels, all_data[['Name','Survived']], on=['Name'])\n",
        "# Compute the accuracy as a ratio of matching observations to total osbervations. Store this in in the variable acc.\n",
        "acc = np.sum(testing_results['Est_Survival'] == testing_results['Survived'])\n",
        "float(len(testing_results))\n",
        "# Print the result"
      ],
      "metadata": {
        "id": "lYJSMt-Hi2Wz",
        "colab": {
          "base_uri": "https://localhost:8080/"
        },
        "outputId": "c2c3db9d-4a6a-4136-d2ac-1acb1af9632a"
      },
      "execution_count": null,
      "outputs": [
        {
          "output_type": "execute_result",
          "data": {
            "text/plain": [
              "397.0"
            ]
          },
          "metadata": {},
          "execution_count": 27
        }
      ]
    },
    {
      "cell_type": "markdown",
      "source": [
        "##**Part 3: Evaluate the Decision Tree Model**\n",
        "\n",
        "The sklearn library includes a module that can be used to evaluate the accurracy of the decision tree model.\n",
        "The train_test_split() method will divide the observations in whole data set into two randomly selected\n",
        "arrays of observations that makeup the testing and training datasets. After fitting the model to the training data,\n",
        "the trained model can be scored and the prediction accurracy compared for both the training and test datasets. It\n",
        "is desirable for the two scores to be close, but the accuracy for the test dataset is normally lower that for the\n",
        "training data set.\n"
      ],
      "metadata": {
        "id": "tWpZ8nTxi4l7"
      }
    },
    {
      "cell_type": "markdown",
      "source": [
        "#Step 1: Import the data\n",
        "\n",
        "This time we will import the data from a csv file, but we will specify the columns that we want to have appear in\n",
        "the dataframe. We will do this by passing an array-like list of column names to the read_csv() method usecols\n",
        "parameter. Use the following columns: 'Survived', 'Fare', 'Pclass', 'Gender', 'Age', and 'SibSP'. Each should be in\n",
        "quotes and the list should be square brackets. Name this dataframe all_data."
      ],
      "metadata": {
        "id": "7AWcjYqZi74z"
      }
    },
    {
      "cell_type": "code",
      "source": [
        "#code cell 22\n",
        "#import the titanic_all.csv file into a dataframe called all_data. Specify the list of columns to import.\n",
        "all_data = pd.read_csv(\"/content/titanic_all.csv\", usecols=['Survived','Pclass', 'Sex','Age','SibSp','Fare'])\n",
        "#View info for the new dataframe\n",
        "all_data.info()\n"
      ],
      "metadata": {
        "id": "tqdX54JAjEb2",
        "colab": {
          "base_uri": "https://localhost:8080/"
        },
        "outputId": "7991965a-b98d-45f3-838d-3fd28c65bebd"
      },
      "execution_count": null,
      "outputs": [
        {
          "output_type": "stream",
          "name": "stdout",
          "text": [
            "<class 'pandas.core.frame.DataFrame'>\n",
            "RangeIndex: 1308 entries, 0 to 1307\n",
            "Data columns (total 6 columns):\n",
            " #   Column    Non-Null Count  Dtype  \n",
            "---  ------    --------------  -----  \n",
            " 0   Survived  1308 non-null   int64  \n",
            " 1   Pclass    1308 non-null   int64  \n",
            " 2   Sex       1308 non-null   object \n",
            " 3   Age       1045 non-null   float64\n",
            " 4   SibSp     1308 non-null   int64  \n",
            " 5   Fare      1308 non-null   float64\n",
            "dtypes: float64(2), int64(3), object(1)\n",
            "memory usage: 61.4+ KB\n"
          ]
        }
      ]
    },
    {
      "cell_type": "markdown",
      "source": [
        "**How many records are in the data set?**\n",
        "\n",
        "- There are 1308 records in the dataset"
      ],
      "metadata": {
        "id": "l_X9UFkgjG0l"
      }
    },
    {
      "cell_type": "markdown",
      "source": [
        "**Which important variables(s) are missing values and how many are missing?**\n",
        "\n",
        "- The age has 263 missing values."
      ],
      "metadata": {
        "id": "OTMPIypajJ1T"
      }
    },
    {
      "cell_type": "markdown",
      "source": [
        "#Step 2: Prepare the data.\n",
        "\n",
        "**a) Remove the \"male\" and \"female\" strings and replace them with 0 and 1 respectively.**\n"
      ],
      "metadata": {
        "id": "FnGBy_OXjMWT"
      }
    },
    {
      "cell_type": "code",
      "source": [
        "#code cell 23\n",
        "#Label the gender variable with 0 and 1\n",
        "all_data[\"Sex\"] = all_data[\"Sex\"].apply(lambda toLabel: 0 if toLabel == 'male' else 1)"
      ],
      "metadata": {
        "id": "LmZj9f0DjQKM"
      },
      "execution_count": null,
      "outputs": []
    },
    {
      "cell_type": "markdown",
      "source": [
        "**c) Replace the missing age values with the mean of the age of all members of the data set.**"
      ],
      "metadata": {
        "id": "sQlU7aGvjSbN"
      }
    },
    {
      "cell_type": "code",
      "source": [
        "#code cell 24\n",
        "#replace missing Age values with the mean age\n",
        "#display the first few rows of the data set\n",
        "all_data[\"Age\"].fillna(all_data[\"Age\"].mean(), inplace=True)\n",
        "all_data.head()"
      ],
      "metadata": {
        "id": "yhX8Gf4RjUh7",
        "colab": {
          "base_uri": "https://localhost:8080/",
          "height": 206
        },
        "outputId": "db102e2a-104a-4027-c526-d3e0d7b5c1c6"
      },
      "execution_count": null,
      "outputs": [
        {
          "output_type": "execute_result",
          "data": {
            "text/plain": [
              "   Survived  Pclass  Sex      Age  SibSp      Fare\n",
              "0         1       1    1  29.0000      0  211.3375\n",
              "1         1       1    0   0.9167      1  151.5500\n",
              "2         0       1    1   2.0000      1  151.5500\n",
              "3         0       1    0  30.0000      1  151.5500\n",
              "4         0       1    1  25.0000      1  151.5500"
            ],
            "text/html": [
              "\n",
              "  <div id=\"df-53eea791-2bed-4b81-822c-0d1817af032a\" class=\"colab-df-container\">\n",
              "    <div>\n",
              "<style scoped>\n",
              "    .dataframe tbody tr th:only-of-type {\n",
              "        vertical-align: middle;\n",
              "    }\n",
              "\n",
              "    .dataframe tbody tr th {\n",
              "        vertical-align: top;\n",
              "    }\n",
              "\n",
              "    .dataframe thead th {\n",
              "        text-align: right;\n",
              "    }\n",
              "</style>\n",
              "<table border=\"1\" class=\"dataframe\">\n",
              "  <thead>\n",
              "    <tr style=\"text-align: right;\">\n",
              "      <th></th>\n",
              "      <th>Survived</th>\n",
              "      <th>Pclass</th>\n",
              "      <th>Sex</th>\n",
              "      <th>Age</th>\n",
              "      <th>SibSp</th>\n",
              "      <th>Fare</th>\n",
              "    </tr>\n",
              "  </thead>\n",
              "  <tbody>\n",
              "    <tr>\n",
              "      <th>0</th>\n",
              "      <td>1</td>\n",
              "      <td>1</td>\n",
              "      <td>1</td>\n",
              "      <td>29.0000</td>\n",
              "      <td>0</td>\n",
              "      <td>211.3375</td>\n",
              "    </tr>\n",
              "    <tr>\n",
              "      <th>1</th>\n",
              "      <td>1</td>\n",
              "      <td>1</td>\n",
              "      <td>0</td>\n",
              "      <td>0.9167</td>\n",
              "      <td>1</td>\n",
              "      <td>151.5500</td>\n",
              "    </tr>\n",
              "    <tr>\n",
              "      <th>2</th>\n",
              "      <td>0</td>\n",
              "      <td>1</td>\n",
              "      <td>1</td>\n",
              "      <td>2.0000</td>\n",
              "      <td>1</td>\n",
              "      <td>151.5500</td>\n",
              "    </tr>\n",
              "    <tr>\n",
              "      <th>3</th>\n",
              "      <td>0</td>\n",
              "      <td>1</td>\n",
              "      <td>0</td>\n",
              "      <td>30.0000</td>\n",
              "      <td>1</td>\n",
              "      <td>151.5500</td>\n",
              "    </tr>\n",
              "    <tr>\n",
              "      <th>4</th>\n",
              "      <td>0</td>\n",
              "      <td>1</td>\n",
              "      <td>1</td>\n",
              "      <td>25.0000</td>\n",
              "      <td>1</td>\n",
              "      <td>151.5500</td>\n",
              "    </tr>\n",
              "  </tbody>\n",
              "</table>\n",
              "</div>\n",
              "    <div class=\"colab-df-buttons\">\n",
              "\n",
              "  <div class=\"colab-df-container\">\n",
              "    <button class=\"colab-df-convert\" onclick=\"convertToInteractive('df-53eea791-2bed-4b81-822c-0d1817af032a')\"\n",
              "            title=\"Convert this dataframe to an interactive table.\"\n",
              "            style=\"display:none;\">\n",
              "\n",
              "  <svg xmlns=\"http://www.w3.org/2000/svg\" height=\"24px\" viewBox=\"0 -960 960 960\">\n",
              "    <path d=\"M120-120v-720h720v720H120Zm60-500h600v-160H180v160Zm220 220h160v-160H400v160Zm0 220h160v-160H400v160ZM180-400h160v-160H180v160Zm440 0h160v-160H620v160ZM180-180h160v-160H180v160Zm440 0h160v-160H620v160Z\"/>\n",
              "  </svg>\n",
              "    </button>\n",
              "\n",
              "  <style>\n",
              "    .colab-df-container {\n",
              "      display:flex;\n",
              "      gap: 12px;\n",
              "    }\n",
              "\n",
              "    .colab-df-convert {\n",
              "      background-color: #E8F0FE;\n",
              "      border: none;\n",
              "      border-radius: 50%;\n",
              "      cursor: pointer;\n",
              "      display: none;\n",
              "      fill: #1967D2;\n",
              "      height: 32px;\n",
              "      padding: 0 0 0 0;\n",
              "      width: 32px;\n",
              "    }\n",
              "\n",
              "    .colab-df-convert:hover {\n",
              "      background-color: #E2EBFA;\n",
              "      box-shadow: 0px 1px 2px rgba(60, 64, 67, 0.3), 0px 1px 3px 1px rgba(60, 64, 67, 0.15);\n",
              "      fill: #174EA6;\n",
              "    }\n",
              "\n",
              "    .colab-df-buttons div {\n",
              "      margin-bottom: 4px;\n",
              "    }\n",
              "\n",
              "    [theme=dark] .colab-df-convert {\n",
              "      background-color: #3B4455;\n",
              "      fill: #D2E3FC;\n",
              "    }\n",
              "\n",
              "    [theme=dark] .colab-df-convert:hover {\n",
              "      background-color: #434B5C;\n",
              "      box-shadow: 0px 1px 3px 1px rgba(0, 0, 0, 0.15);\n",
              "      filter: drop-shadow(0px 1px 2px rgba(0, 0, 0, 0.3));\n",
              "      fill: #FFFFFF;\n",
              "    }\n",
              "  </style>\n",
              "\n",
              "    <script>\n",
              "      const buttonEl =\n",
              "        document.querySelector('#df-53eea791-2bed-4b81-822c-0d1817af032a button.colab-df-convert');\n",
              "      buttonEl.style.display =\n",
              "        google.colab.kernel.accessAllowed ? 'block' : 'none';\n",
              "\n",
              "      async function convertToInteractive(key) {\n",
              "        const element = document.querySelector('#df-53eea791-2bed-4b81-822c-0d1817af032a');\n",
              "        const dataTable =\n",
              "          await google.colab.kernel.invokeFunction('convertToInteractive',\n",
              "                                                    [key], {});\n",
              "        if (!dataTable) return;\n",
              "\n",
              "        const docLinkHtml = 'Like what you see? Visit the ' +\n",
              "          '<a target=\"_blank\" href=https://colab.research.google.com/notebooks/data_table.ipynb>data table notebook</a>'\n",
              "          + ' to learn more about interactive tables.';\n",
              "        element.innerHTML = '';\n",
              "        dataTable['output_type'] = 'display_data';\n",
              "        await google.colab.output.renderOutput(dataTable, element);\n",
              "        const docLink = document.createElement('div');\n",
              "        docLink.innerHTML = docLinkHtml;\n",
              "        element.appendChild(docLink);\n",
              "      }\n",
              "    </script>\n",
              "  </div>\n",
              "\n",
              "\n",
              "<div id=\"df-b72fa416-308f-460d-a5e8-09545b43fb18\">\n",
              "  <button class=\"colab-df-quickchart\" onclick=\"quickchart('df-b72fa416-308f-460d-a5e8-09545b43fb18')\"\n",
              "            title=\"Suggest charts\"\n",
              "            style=\"display:none;\">\n",
              "\n",
              "<svg xmlns=\"http://www.w3.org/2000/svg\" height=\"24px\"viewBox=\"0 0 24 24\"\n",
              "     width=\"24px\">\n",
              "    <g>\n",
              "        <path d=\"M19 3H5c-1.1 0-2 .9-2 2v14c0 1.1.9 2 2 2h14c1.1 0 2-.9 2-2V5c0-1.1-.9-2-2-2zM9 17H7v-7h2v7zm4 0h-2V7h2v10zm4 0h-2v-4h2v4z\"/>\n",
              "    </g>\n",
              "</svg>\n",
              "  </button>\n",
              "\n",
              "<style>\n",
              "  .colab-df-quickchart {\n",
              "      --bg-color: #E8F0FE;\n",
              "      --fill-color: #1967D2;\n",
              "      --hover-bg-color: #E2EBFA;\n",
              "      --hover-fill-color: #174EA6;\n",
              "      --disabled-fill-color: #AAA;\n",
              "      --disabled-bg-color: #DDD;\n",
              "  }\n",
              "\n",
              "  [theme=dark] .colab-df-quickchart {\n",
              "      --bg-color: #3B4455;\n",
              "      --fill-color: #D2E3FC;\n",
              "      --hover-bg-color: #434B5C;\n",
              "      --hover-fill-color: #FFFFFF;\n",
              "      --disabled-bg-color: #3B4455;\n",
              "      --disabled-fill-color: #666;\n",
              "  }\n",
              "\n",
              "  .colab-df-quickchart {\n",
              "    background-color: var(--bg-color);\n",
              "    border: none;\n",
              "    border-radius: 50%;\n",
              "    cursor: pointer;\n",
              "    display: none;\n",
              "    fill: var(--fill-color);\n",
              "    height: 32px;\n",
              "    padding: 0;\n",
              "    width: 32px;\n",
              "  }\n",
              "\n",
              "  .colab-df-quickchart:hover {\n",
              "    background-color: var(--hover-bg-color);\n",
              "    box-shadow: 0 1px 2px rgba(60, 64, 67, 0.3), 0 1px 3px 1px rgba(60, 64, 67, 0.15);\n",
              "    fill: var(--button-hover-fill-color);\n",
              "  }\n",
              "\n",
              "  .colab-df-quickchart-complete:disabled,\n",
              "  .colab-df-quickchart-complete:disabled:hover {\n",
              "    background-color: var(--disabled-bg-color);\n",
              "    fill: var(--disabled-fill-color);\n",
              "    box-shadow: none;\n",
              "  }\n",
              "\n",
              "  .colab-df-spinner {\n",
              "    border: 2px solid var(--fill-color);\n",
              "    border-color: transparent;\n",
              "    border-bottom-color: var(--fill-color);\n",
              "    animation:\n",
              "      spin 1s steps(1) infinite;\n",
              "  }\n",
              "\n",
              "  @keyframes spin {\n",
              "    0% {\n",
              "      border-color: transparent;\n",
              "      border-bottom-color: var(--fill-color);\n",
              "      border-left-color: var(--fill-color);\n",
              "    }\n",
              "    20% {\n",
              "      border-color: transparent;\n",
              "      border-left-color: var(--fill-color);\n",
              "      border-top-color: var(--fill-color);\n",
              "    }\n",
              "    30% {\n",
              "      border-color: transparent;\n",
              "      border-left-color: var(--fill-color);\n",
              "      border-top-color: var(--fill-color);\n",
              "      border-right-color: var(--fill-color);\n",
              "    }\n",
              "    40% {\n",
              "      border-color: transparent;\n",
              "      border-right-color: var(--fill-color);\n",
              "      border-top-color: var(--fill-color);\n",
              "    }\n",
              "    60% {\n",
              "      border-color: transparent;\n",
              "      border-right-color: var(--fill-color);\n",
              "    }\n",
              "    80% {\n",
              "      border-color: transparent;\n",
              "      border-right-color: var(--fill-color);\n",
              "      border-bottom-color: var(--fill-color);\n",
              "    }\n",
              "    90% {\n",
              "      border-color: transparent;\n",
              "      border-bottom-color: var(--fill-color);\n",
              "    }\n",
              "  }\n",
              "</style>\n",
              "\n",
              "  <script>\n",
              "    async function quickchart(key) {\n",
              "      const quickchartButtonEl =\n",
              "        document.querySelector('#' + key + ' button');\n",
              "      quickchartButtonEl.disabled = true;  // To prevent multiple clicks.\n",
              "      quickchartButtonEl.classList.add('colab-df-spinner');\n",
              "      try {\n",
              "        const charts = await google.colab.kernel.invokeFunction(\n",
              "            'suggestCharts', [key], {});\n",
              "      } catch (error) {\n",
              "        console.error('Error during call to suggestCharts:', error);\n",
              "      }\n",
              "      quickchartButtonEl.classList.remove('colab-df-spinner');\n",
              "      quickchartButtonEl.classList.add('colab-df-quickchart-complete');\n",
              "    }\n",
              "    (() => {\n",
              "      let quickchartButtonEl =\n",
              "        document.querySelector('#df-b72fa416-308f-460d-a5e8-09545b43fb18 button');\n",
              "      quickchartButtonEl.style.display =\n",
              "        google.colab.kernel.accessAllowed ? 'block' : 'none';\n",
              "    })();\n",
              "  </script>\n",
              "</div>\n",
              "    </div>\n",
              "  </div>\n"
            ],
            "application/vnd.google.colaboratory.intrinsic+json": {
              "type": "dataframe",
              "variable_name": "all_data",
              "summary": "{\n  \"name\": \"all_data\",\n  \"rows\": 1308,\n  \"fields\": [\n    {\n      \"column\": \"Survived\",\n      \"properties\": {\n        \"dtype\": \"number\",\n        \"std\": 0,\n        \"min\": 0,\n        \"max\": 1,\n        \"num_unique_values\": 2,\n        \"samples\": [\n          0,\n          1\n        ],\n        \"semantic_type\": \"\",\n        \"description\": \"\"\n      }\n    },\n    {\n      \"column\": \"Pclass\",\n      \"properties\": {\n        \"dtype\": \"number\",\n        \"std\": 0,\n        \"min\": 1,\n        \"max\": 3,\n        \"num_unique_values\": 3,\n        \"samples\": [\n          1,\n          2\n        ],\n        \"semantic_type\": \"\",\n        \"description\": \"\"\n      }\n    },\n    {\n      \"column\": \"Sex\",\n      \"properties\": {\n        \"dtype\": \"number\",\n        \"std\": 0,\n        \"min\": 0,\n        \"max\": 1,\n        \"num_unique_values\": 2,\n        \"samples\": [\n          0,\n          1\n        ],\n        \"semantic_type\": \"\",\n        \"description\": \"\"\n      }\n    },\n    {\n      \"column\": \"Age\",\n      \"properties\": {\n        \"dtype\": \"number\",\n        \"std\": 12.860241791360886,\n        \"min\": 0.1667,\n        \"max\": 80.0,\n        \"num_unique_values\": 98,\n        \"samples\": [\n          6.0,\n          64.0\n        ],\n        \"semantic_type\": \"\",\n        \"description\": \"\"\n      }\n    },\n    {\n      \"column\": \"SibSp\",\n      \"properties\": {\n        \"dtype\": \"number\",\n        \"std\": 1,\n        \"min\": 0,\n        \"max\": 8,\n        \"num_unique_values\": 7,\n        \"samples\": [\n          0,\n          1\n        ],\n        \"semantic_type\": \"\",\n        \"description\": \"\"\n      }\n    },\n    {\n      \"column\": \"Fare\",\n      \"properties\": {\n        \"dtype\": \"number\",\n        \"std\": 51.75866823917411,\n        \"min\": 0.0,\n        \"max\": 512.3292,\n        \"num_unique_values\": 281,\n        \"samples\": [\n          5.0,\n          9.35\n        ],\n        \"semantic_type\": \"\",\n        \"description\": \"\"\n      }\n    }\n  ]\n}"
            }
          },
          "metadata": {},
          "execution_count": 42
        }
      ]
    },
    {
      "cell_type": "markdown",
      "source": [
        "#Step 2: Create the input and output variables for the training and testing data.\n",
        "\n",
        "The sklearn library includes modules that help with model selection. We will import from\n",
        "sklearn.model_selection the train_test_split() method. This method will automatically split the entire\n",
        "dataset, returning in total four numpy arrays, two for the features (test and validation) and two for the labels (test\n",
        "and validation). One parameter of the method specifies the proportion of observations to use for testing and\n",
        "training. Another parameter specifies a seed value that will be used to randomize assignment of the observation\n",
        "to testing or training. This is used so that another user can replicate your work by receiving the same\n",
        "assignments of observations to datasets. The syntax of the method is:\n",
        "```train_test_split(input_X, target_y, test_size=0.4, random_state=0)```\n",
        "\n",
        "40% of the data will be used for testing. The random seed is set to 0.\n",
        "\n",
        "The method returns four values. These values are the input varibles for training and testing data and the target\n",
        "variables for the training and testing data in that order.\n"
      ],
      "metadata": {
        "id": "qsRqrrjujV30"
      }
    },
    {
      "cell_type": "markdown",
      "source": [
        "**a) Designate the input variables and output variables and generate the arrays.**"
      ],
      "metadata": {
        "id": "Uh4kxnSGjdIj"
      }
    },
    {
      "cell_type": "code",
      "source": [
        "#code cell 25\n",
        "#Import train_test_split() from the sklearn.model_selection libary\n",
        "from sklearn.model_selection import train_test_split\n",
        "\n",
        "#create the input and target variables as uppercase X and lowercase y. Reuse the columns variable.\n",
        "X = all_data[list(columns)].values\n",
        "y = all_data[\"Survived\"].values\n",
        "\n",
        "#generate the four testing and training data arrays with the train_test_split() method\n",
        "X_train,X_test,y_train,y_test=train_test_split(X, y, test_size=0.40, random_state=0)\n"
      ],
      "metadata": {
        "id": "rxKF9FXpjfmr"
      },
      "execution_count": null,
      "outputs": []
    },
    {
      "cell_type": "markdown",
      "source": [
        "**b) Train the model and fit it to the testing data**\n",
        "\n",
        "Now the model can be fit again. The model will be trained using only the training datat, as selected by the\n",
        "train_test_split function."
      ],
      "metadata": {
        "id": "YQZb3d-EjhqT"
      }
    },
    {
      "cell_type": "code",
      "source": [
        "#code cell 26\n",
        "#create the training decision tree object\n",
        "clf_train = tree.DecisionTreeClassifier(criterion=\"entropy\", max_depth=3)\n",
        "#fit the training model using the input and target variables\n",
        "clf_train = clf_train.fit(X_train, y_train)"
      ],
      "metadata": {
        "id": "djTS172yjlKz"
      },
      "execution_count": null,
      "outputs": []
    },
    {
      "cell_type": "markdown",
      "source": [
        "**c) Compare models by scoring each.**\n",
        "\n",
        "Use the score() method of each decision tree object to generate scores.\n"
      ],
      "metadata": {
        "id": "q8qV2eF1jnyV"
      }
    },
    {
      "cell_type": "code",
      "source": [
        "#code cell 27\n",
        "#score the model on the two datasets and store the scores in variables. Convert the scores to strings using str()\n",
        "train_score = str(clf_train.score(X_train,y_train))\n",
        "test_score = str(clf_train.score(X_test,y_test))\n",
        "#output the values in a test string\n",
        "print('Training score = '+ train_score+' Testing score = '+test_score)\n"
      ],
      "metadata": {
        "id": "MeH6-H0Yjql7",
        "colab": {
          "base_uri": "https://localhost:8080/"
        },
        "outputId": "c2144712-2169-4e4e-80e4-f54273b73141"
      },
      "execution_count": null,
      "outputs": [
        {
          "output_type": "stream",
          "name": "stdout",
          "text": [
            "Training score = 0.8201530612244898 Testing score = 0.8053435114503816\n"
          ]
        }
      ]
    },
    {
      "cell_type": "markdown",
      "source": [
        "We have now compared the scores for the trained model on both test and validation data. As expected, the test\n",
        "accuracy score is close, but lower than the score for the training data. This is because normally, the model tends\n",
        "to overfit the training data, therefore the test score is a better evaluation of how the model is able to generalize\n",
        "outside of the training data.\n"
      ],
      "metadata": {
        "id": "iOpa5thTjshU"
      }
    },
    {
      "cell_type": "markdown",
      "source": [
        "#Conclusion\n",
        "\n",
        "In this activity, I learned how to create a decision tree classifier to predict if Titanic passengers survived, which involved getting the data ready, training the model, and checking how well it works. Looking at the decision tree helped me understand who survived. I also figured out how important it is to get the data ready, set the right settings for training, and use different ways to check if the model works well. I faced challenges like dealing with missing data, understanding the decision tree, and making sure the model works on new data. One part that gave me trouble was Step 4 when trying to visualize the tree, but after a few adjustments, it started working."
      ],
      "metadata": {
        "id": "5eNdwL6AZMKz"
      }
    }
  ]
}