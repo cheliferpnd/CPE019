{
  "nbformat": 4,
  "nbformat_minor": 0,
  "metadata": {
    "kernelspec": {
      "display_name": "Python 3",
      "language": "python",
      "name": "python3"
    },
    "language_info": {
      "codemirror_mode": {
        "name": "ipython",
        "version": 3
      },
      "file_extension": ".py",
      "mimetype": "text/x-python",
      "name": "python",
      "nbconvert_exporter": "python",
      "pygments_lexer": "ipython3",
      "version": "3.7.7"
    },
    "colab": {
      "provenance": []
    },
    "accelerator": "GPU"
  },
  "cells": [
    {
      "cell_type": "markdown",
      "metadata": {
        "id": "WUQHSYAH8A15"
      },
      "source": [
        "\n",
        "| <h1> Activity 1.1 </h1> | <h1> Python Challenge </h1> |\n",
        "|--- | --- |\n",
        "Name: Pineda, Rachel Joy D.\n",
        "Course and Section: CPE019 - CPE32S3 <br>\n",
        "Instructor: Engr. Roman Richard\n",
        "Date Performed:January 24, 2024\n",
        "Date SubmittedJanuary 24, 2024\n",
        "\n",
        "<hr>\n",
        "\n",
        "**Instructions**: Answer the questions or complete the tasks outlined below, use the specific method described if applicable. Insert a code cell after each text cell.\n",
        "\n",
        "**Objectives:**\n",
        "- Test understanding of Python basics\n",
        "- Review Python basic to intermediate commands\n",
        "\n",
        "<hr>"
      ]
    },
    {
      "cell_type": "markdown",
      "metadata": {
        "id": "-7dT6HEt8A1_"
      },
      "source": [
        "1. What is 3 to the power of 5?"
      ]
    },
    {
      "cell_type": "code",
      "source": [
        " 3**5"
      ],
      "metadata": {
        "id": "CiAIi_wlM23B",
        "colab": {
          "base_uri": "https://localhost:8080/"
        },
        "outputId": "6b526c4c-0460-42d9-b5b2-c6ebe8ce4c9c"
      },
      "execution_count": null,
      "outputs": [
        {
          "output_type": "execute_result",
          "data": {
            "text/plain": [
              "243"
            ]
          },
          "metadata": {},
          "execution_count": 1
        }
      ]
    },
    {
      "cell_type": "markdown",
      "metadata": {
        "id": "TpUg2QaM8A2C"
      },
      "source": [
        "2.  Create a variable, s, containing the string \"This course is amazing!\". Using the variable, split the string into a list."
      ]
    },
    {
      "cell_type": "code",
      "source": [
        "s = \"This course is amazing!\"\n",
        "s.split()"
      ],
      "metadata": {
        "id": "AmSwowsTCUwA",
        "outputId": "121f81a3-772a-45ea-a211-2b14e3b4b14d",
        "colab": {
          "base_uri": "https://localhost:8080/"
        }
      },
      "execution_count": null,
      "outputs": [
        {
          "output_type": "execute_result",
          "data": {
            "text/plain": [
              "['This', 'course', 'is', 'amazing!']"
            ]
          },
          "metadata": {},
          "execution_count": 2
        }
      ]
    },
    {
      "cell_type": "markdown",
      "metadata": {
        "id": "B3yPY5pD8A2D"
      },
      "source": [
        "3.  Given the variables height and mountain, use .format() to print the following string:\n",
        "`The height of Mt. Everest is 8848 meters.`"
      ]
    },
    {
      "cell_type": "code",
      "source": [
        "height = 8848\n",
        "mountain = \"Mt. Everest\"\n",
        "\n",
        "print(\"The height of {} is {} meters.\".format(mountain, height))"
      ],
      "metadata": {
        "colab": {
          "base_uri": "https://localhost:8080/"
        },
        "id": "ThLo-Wa2nU__",
        "outputId": "a115a349-2e86-472a-ce91-5e4bf2a6d8ea"
      },
      "execution_count": null,
      "outputs": [
        {
          "output_type": "stream",
          "name": "stdout",
          "text": [
            "The height of Mt. Everest is 8848 meters.\n"
          ]
        }
      ]
    },
    {
      "cell_type": "markdown",
      "metadata": {
        "id": "WPFy00ne8A2F"
      },
      "source": [
        "4. Given the following nested list, use indexing to grab the word \"this\".\n",
        "\n",
        "```\n",
        "lst = ['a','b',[4,10,11],['c',[1,66,['this']],2,111],'e',7]\n",
        "```"
      ]
    },
    {
      "cell_type": "code",
      "source": [
        "lst = ['a', 'b', [4, 10, 11], ['c', [1, 66, ['this']], 2, 111], 'e', 7]\n",
        "word_this = lst[3][1][2][0]\n",
        "\n",
        "print(word_this)"
      ],
      "metadata": {
        "colab": {
          "base_uri": "https://localhost:8080/"
        },
        "id": "urCx9MNzniAy",
        "outputId": "275e80d1-35c2-47da-f3eb-22a9fe7febaa"
      },
      "execution_count": null,
      "outputs": [
        {
          "output_type": "stream",
          "name": "stdout",
          "text": [
            "this\n"
          ]
        }
      ]
    },
    {
      "cell_type": "markdown",
      "metadata": {
        "id": "cUA9kmWi8A2H"
      },
      "source": [
        "5. Given the following nested dictionary, grab the word \"that\". This exercise is a little more difficult.\n",
        "```\n",
        "d = {'k1':['val1','val2','val3',{'we':['need','to','go',{'deeper':[1,2,3,'that']}]}]}\n",
        "```"
      ]
    },
    {
      "cell_type": "code",
      "source": [
        "d = {'k1': ['val1', 'val2', 'val3', {'we': ['need', 'to', 'go', {'deeper': [1, 2, 3, 'that']}]}]}\n",
        "word_that = d['k1'][3]['we'][3]['deeper'][3]\n",
        "\n",
        "print(word_that)"
      ],
      "metadata": {
        "colab": {
          "base_uri": "https://localhost:8080/"
        },
        "id": "9IzKWZ-NntNj",
        "outputId": "b4c5b6c1-887a-4896-b5cc-62d1aa2508e6"
      },
      "execution_count": null,
      "outputs": [
        {
          "output_type": "stream",
          "name": "stdout",
          "text": [
            "that\n"
          ]
        }
      ]
    },
    {
      "cell_type": "markdown",
      "metadata": {
        "id": "-WrAu-KK8A2I"
      },
      "source": [
        "6. Create a function, GetDomain(), that grabs the email website domain from a string in the form: user@domain.com.\n",
        "So for example, passing \"user@domain.com\" would return: domain.com"
      ]
    },
    {
      "cell_type": "code",
      "source": [
        "def GetDomain(email):\n",
        "    parts = email.split('@')\n",
        "\n",
        "    if len(parts) == 2: #checks the email if there is only one '@'\n",
        "        return parts[1] #if true goes back to domain name\n",
        "    else:\n",
        "        return \"Invalid email format\" #if false\n",
        "\n",
        "email_address = \"user@domain.com\"\n",
        "domain = GetDomain(email_address)\n",
        "print(domain)"
      ],
      "metadata": {
        "colab": {
          "base_uri": "https://localhost:8080/"
        },
        "id": "H9iYkseEn-Ei",
        "outputId": "c4ce08e2-8627-4fb4-ef64-947bf27bc6cc"
      },
      "execution_count": null,
      "outputs": [
        {
          "output_type": "stream",
          "name": "stdout",
          "text": [
            "domain.com\n"
          ]
        }
      ]
    },
    {
      "cell_type": "code",
      "source": [
        "def GetDomain(email):\n",
        "    parts = email.split('@')\n",
        "\n",
        "    if len(parts) == 2: #checks the email if there is only one '@'\n",
        "        return parts[1] #if true goes back to domain name\n",
        "    else:\n",
        "        return \"Invalid email format\" #if false\n",
        "\n",
        "email_address = \"student@@tip.edu.ph\"\n",
        "domain = GetDomain(email_address)\n",
        "print(domain)"
      ],
      "metadata": {
        "colab": {
          "base_uri": "https://localhost:8080/"
        },
        "id": "_MTcUdnc4Tzq",
        "outputId": "94fc987f-3ea5-4e53-d68e-c72d08631c4a"
      },
      "execution_count": null,
      "outputs": [
        {
          "output_type": "stream",
          "name": "stdout",
          "text": [
            "Invalid email format\n"
          ]
        }
      ]
    },
    {
      "cell_type": "markdown",
      "metadata": {
        "id": "Fx4DIIz18A2K"
      },
      "source": [
        "7. Create a basic function, findInternet(), that returns True if the word 'Internet' is contained in the input string. Don't worry about edge cases like punctuation being attached to the word, but account for capitalization. (Hint: Please see https://docs.python.org/2/reference/expressions.html#in)"
      ]
    },
    {
      "cell_type": "code",
      "source": [
        "def findInternet(input_string):\n",
        "    return 'Internet' in input_string #if the 'Internet' is present = True; if not 'False'\n",
        "\n",
        "input_str = \"The Internet is an important and great invention that makes our tasks easier.\"\n",
        "result = findInternet(input_str)\n",
        "print(result)"
      ],
      "metadata": {
        "colab": {
          "base_uri": "https://localhost:8080/"
        },
        "id": "A6bejf8YotrN",
        "outputId": "706d81a5-1efb-4f65-ae82-e08c7d3644f0"
      },
      "execution_count": null,
      "outputs": [
        {
          "output_type": "stream",
          "name": "stdout",
          "text": [
            "True\n"
          ]
        }
      ]
    },
    {
      "cell_type": "code",
      "source": [
        "def findInternet(input_string):\n",
        "    return 'Internet' in input_string #if the 'Internet' is present = True; if not 'False'\n",
        "\n",
        "input_str = \"The internet is an important and great invention that makes our tasks easier.\" #case-sensitive if one of the letter is in lower case the result will be'False'\n",
        "result = findInternet(input_str)\n",
        "print(result)"
      ],
      "metadata": {
        "colab": {
          "base_uri": "https://localhost:8080/"
        },
        "id": "FvBvyKxL5O3H",
        "outputId": "47e39322-6414-45cb-c97c-9de65504f904"
      },
      "execution_count": null,
      "outputs": [
        {
          "output_type": "stream",
          "name": "stdout",
          "text": [
            "False\n"
          ]
        }
      ]
    },
    {
      "cell_type": "code",
      "source": [
        "def findInternet(input_string):\n",
        "    return 'Internet' in input_string #if the 'Internet' is present = True; if not 'False'\n",
        "\n",
        "input_str = \"The world is round.\"\n",
        "result = findInternet(input_str)\n",
        "print(result)"
      ],
      "metadata": {
        "colab": {
          "base_uri": "https://localhost:8080/"
        },
        "id": "p1taj7t_58oI",
        "outputId": "02e4191f-427b-4da1-8ab7-82dca1228e66"
      },
      "execution_count": null,
      "outputs": [
        {
          "output_type": "stream",
          "name": "stdout",
          "text": [
            "False\n"
          ]
        }
      ]
    },
    {
      "cell_type": "markdown",
      "metadata": {
        "id": "4pPortmo8A2M"
      },
      "source": [
        "8. Create a function, countIoT(), that counts the number of times the word \"IoT\" occurs in a string. Ignore edge cases but take into account capitalization."
      ]
    },
    {
      "cell_type": "code",
      "source": [
        "def countIoT(input_string):\n",
        "    count = input_string.count('IoT') #counts how many times the word 'IoT' is used\n",
        "    return count\n",
        "\n",
        "text = \"I use IoT (Internet of Things) devices at home, and the IoT has made my life easier.\"\n",
        "result = countIoT(text)\n",
        "\n",
        "print(result)"
      ],
      "metadata": {
        "colab": {
          "base_uri": "https://localhost:8080/"
        },
        "id": "lagvp9reo7iL",
        "outputId": "795441d2-48b2-47fe-8771-4bf769b8b4df"
      },
      "execution_count": null,
      "outputs": [
        {
          "output_type": "stream",
          "name": "stdout",
          "text": [
            "2\n"
          ]
        }
      ]
    },
    {
      "cell_type": "code",
      "source": [
        "text = \"I use IoT (Internet of Things) devices at home, and the Iot has made my life easier.\" #same with the findInternet it is also case-sensitive if one letter is been capitalized or lower-cased it will not count the word\n",
        "result = countIoT(text)\n",
        "\n",
        "print(result)"
      ],
      "metadata": {
        "colab": {
          "base_uri": "https://localhost:8080/"
        },
        "id": "r2ct3iOR8p6v",
        "outputId": "3173f8fa-37c8-489d-bf24-a1e24e83cb19"
      },
      "execution_count": null,
      "outputs": [
        {
          "output_type": "stream",
          "name": "stdout",
          "text": [
            "1\n"
          ]
        }
      ]
    },
    {
      "cell_type": "markdown",
      "metadata": {
        "id": "Hg-mqSUd8A2O"
      },
      "source": [
        "9. Use lambda expressions and the filter() function to filter out words from a list that do not start with the letter 'd'. For example:\n",
        "```\n",
        "seq = ['data','salt' ,'dairy','cat', 'dog']\n",
        "```\n",
        "should be filtered down to:\n",
        "```\n",
        "['data', 'dairy', 'dog']\n",
        "```"
      ]
    },
    {
      "cell_type": "code",
      "source": [
        "seq = ['data', 'salt', 'dairy', 'cat', 'dog']\n",
        "filtered_seq = list(filter(lambda word: word.startswith('d'), seq)) #case-sensitive by default;\n",
        "\n",
        "print(filtered_seq)"
      ],
      "metadata": {
        "colab": {
          "base_uri": "https://localhost:8080/"
        },
        "id": "930zQa_fpI04",
        "outputId": "0a0c0109-8f03-43dd-d49e-8058ab31a16e"
      },
      "execution_count": null,
      "outputs": [
        {
          "output_type": "stream",
          "name": "stdout",
          "text": [
            "['data', 'dairy', 'dog']\n"
          ]
        }
      ]
    },
    {
      "cell_type": "code",
      "source": [
        "seq = ['data', 'salt', 'dairy', 'cat', 'Dog']\n",
        "filtered_seq = list(filter(lambda word: word.startswith('d'), seq)) #if the letter 'd' is changed into 'D' it will not filtered or include in the output;\n",
        "\n",
        "print(filtered_seq)"
      ],
      "metadata": {
        "colab": {
          "base_uri": "https://localhost:8080/"
        },
        "id": "J42gwnm_9VJr",
        "outputId": "627ae192-b658-4f26-b74d-94febb63686c"
      },
      "execution_count": null,
      "outputs": [
        {
          "output_type": "stream",
          "name": "stdout",
          "text": [
            "['data', 'dairy']\n"
          ]
        }
      ]
    },
    {
      "cell_type": "markdown",
      "metadata": {
        "id": "i5HTJZtM8A2O"
      },
      "source": [
        "10. Use lambda expressions and the map() function to convert a list of words to upper case. For example:\n",
        "```\n",
        "seq = ['data','salt' ,'dairy','cat', 'dog']\n",
        "```\n",
        "should become:\n",
        "```\n",
        "['DATA', 'SALT', 'DAIRY', 'CAT', 'DOG']\n",
        "```"
      ]
    },
    {
      "cell_type": "code",
      "source": [
        "seq = ['data', 'salt', 'dairy', 'cat', 'dog']\n",
        "upper_case_seq = list(map(lambda word: word.upper(), seq)) #map function- this helps to apply the function in every word in the list\n",
        "\n",
        "print(upper_case_seq)"
      ],
      "metadata": {
        "colab": {
          "base_uri": "https://localhost:8080/"
        },
        "id": "dakBQtU2pZ0Z",
        "outputId": "28c618f0-b8c2-4719-f8fe-c1fffc9a8996"
      },
      "execution_count": null,
      "outputs": [
        {
          "output_type": "stream",
          "name": "stdout",
          "text": [
            "['DATA', 'SALT', 'DAIRY', 'CAT', 'DOG']\n"
          ]
        }
      ]
    },
    {
      "cell_type": "markdown",
      "metadata": {
        "id": "1t6lwmWv8A2Q"
      },
      "source": [
        "11. Imagine a smart thermostat that is connected to the door, so that it can detect, in addition to the temperature, when people enter or leave the house. <br><br>Write a function that, if the temperature is lower than 20 degrees Celsius, and there are people in the house (encoded as a boolean value to be passed as a parameter to the function), turns on the heating by returning the string \"Heating on\". When the temperature reaches 23 degrees or there are no people in the house, it returns the string \"Heating off\". When none of these conditions are met, the function returns \"Do nothing\"."
      ]
    },
    {
      "cell_type": "code",
      "source": [
        "def control_heating(temp, is_there_people):\n",
        "    if temp < 20 and is_there_people:\n",
        "        return \"Heating on\" #if both conditions are 'True' = \"Heating on\"\n",
        "    elif temp >= 23 or not is_there_people: #either the conditions is 'True' = \"Heating off\"\n",
        "        return \"Heating off\"\n",
        "    else:\n",
        "        return \"Do nothing\" #if neither from the previous conditions are true\n",
        "\n",
        "print(control_heating(18, True)) # Output: Heating on"
      ],
      "metadata": {
        "colab": {
          "base_uri": "https://localhost:8080/"
        },
        "id": "PGhVPCW6pvHn",
        "outputId": "e998a287-3ed3-4303-f49e-ad510cef1432"
      },
      "execution_count": null,
      "outputs": [
        {
          "output_type": "stream",
          "name": "stdout",
          "text": [
            "Heating on\n"
          ]
        }
      ]
    },
    {
      "cell_type": "code",
      "source": [
        "print(control_heating(22, False)) # Output: Heating off"
      ],
      "metadata": {
        "colab": {
          "base_uri": "https://localhost:8080/"
        },
        "id": "H5ErQvBKp4k0",
        "outputId": "7c783d49-4f1c-42e1-b9dd-b719c112501e"
      },
      "execution_count": null,
      "outputs": [
        {
          "output_type": "stream",
          "name": "stdout",
          "text": [
            "Heating off\n"
          ]
        }
      ]
    },
    {
      "cell_type": "code",
      "source": [
        "print(control_heating(20, True)) # Output: Do nothing"
      ],
      "metadata": {
        "colab": {
          "base_uri": "https://localhost:8080/"
        },
        "id": "CDAaTjrOp-Ei",
        "outputId": "4bd6bb63-02a8-4fe9-f9c8-98b6e6116c06"
      },
      "execution_count": null,
      "outputs": [
        {
          "output_type": "stream",
          "name": "stdout",
          "text": [
            "Do nothing\n"
          ]
        }
      ]
    },
    {
      "cell_type": "markdown",
      "metadata": {
        "id": "HvZXBwvn8A2S"
      },
      "source": [
        "12. The function zip(list1, list2) returns a list of tuples, where the i-th tuple contains the i-th element from each of the argument lists. Use the zip function to create the following list of tuples: <br>\n",
        "```\n",
        "zipped = [('Parking', -1), ('Shops',0), ('Food Court',1), ('Offices',2)]\n",
        "```"
      ]
    },
    {
      "cell_type": "code",
      "source": [
        "data = [{'Area': 'Parking', 'Floor': -1},\n",
        "        {'Area': 'Shops', 'Floor': 0},\n",
        "        {'Area': 'Food Court', 'Floor': 1},\n",
        "        {'Area': 'Offices', 'Floor': 2}]\n",
        "\n",
        "zipped = [(item['Area'], item['Floor']) for item in data]\n",
        "\n",
        "print(zipped)"
      ],
      "metadata": {
        "colab": {
          "base_uri": "https://localhost:8080/"
        },
        "id": "XceIcntbsxN2",
        "outputId": "4fc7a3a5-53fd-42bf-b211-f6436848847b"
      },
      "execution_count": null,
      "outputs": [
        {
          "output_type": "stream",
          "name": "stdout",
          "text": [
            "[('Parking', -1), ('Shops', 0), ('Food Court', 1), ('Offices', 2)]\n"
          ]
        }
      ]
    },
    {
      "cell_type": "code",
      "source": [
        "area = ['Parking', 'Shops', 'Food Court', 'Offices']\n",
        "floors = [-1, 0, 1, 2]\n",
        "zipped = list(zip(area, floors)) #takes the two lists as inputs and combine into a single zip obj\n",
        "\n",
        "print(zipped)"
      ],
      "metadata": {
        "colab": {
          "base_uri": "https://localhost:8080/"
        },
        "id": "tcyGyX6g_bp3",
        "outputId": "2bcb8d08-9122-4981-d40b-ae862569ceed"
      },
      "execution_count": null,
      "outputs": [
        {
          "output_type": "stream",
          "name": "stdout",
          "text": [
            "[('Parking', -1), ('Shops', 0), ('Food Court', 1), ('Offices', 2)]\n"
          ]
        }
      ]
    },
    {
      "cell_type": "code",
      "metadata": {
        "id": "BmMSb6ys8A2T",
        "colab": {
          "base_uri": "https://localhost:8080/"
        },
        "outputId": "49e9c1b9-ccb0-4fa5-ddca-3737899e64ec"
      },
      "source": [
        "# Code cell 13\n",
        "floor_types = ['Parking', 'Shops', 'Food Court', 'Offices']\n",
        "floor_numbers = range(-1,3)\n",
        "zipped = list(zip(floor_types, floor_numbers))\n",
        "\n",
        "print(zipped)"
      ],
      "execution_count": null,
      "outputs": [
        {
          "output_type": "stream",
          "name": "stdout",
          "text": [
            "[('Parking', -1), ('Shops', 0), ('Food Court', 1), ('Offices', 2)]\n"
          ]
        }
      ]
    },
    {
      "cell_type": "markdown",
      "metadata": {
        "id": "I25Wddbt8A2U"
      },
      "source": [
        "13. Use the zip function and dict() to create a dictionary, elevator_dict, where the keys are the floor types and the values are the corresponding floor number so that:<br>\n",
        "```\n",
        "elevator_dict[-1] = 'Parking'\n",
        "```"
      ]
    },
    {
      "cell_type": "code",
      "metadata": {
        "id": "aalDO_TQ8A2U",
        "colab": {
          "base_uri": "https://localhost:8080/"
        },
        "outputId": "f95d7299-2520-4bdf-adbd-4a3f56f82ce5"
      },
      "source": [
        "# Code cell 14\n",
        "floor_types = ['Parking', 'Shops', 'Food Court', 'Offices']\n",
        "floor_numbers = [-1, 0, 1, 2]\n",
        "\n",
        "#'zip'- pairs up elements from both lists\n",
        "#'dict()' - like a map floor numbers = floor types\n",
        "elevator_dict = dict(zip(floor_numbers, floor_types))\n",
        "\n",
        "print(elevator_dict)"
      ],
      "execution_count": null,
      "outputs": [
        {
          "output_type": "stream",
          "name": "stdout",
          "text": [
            "{-1: 'Parking', 0: 'Shops', 1: 'Food Court', 2: 'Offices'}\n"
          ]
        }
      ]
    },
    {
      "cell_type": "code",
      "metadata": {
        "id": "qExH72Zv8A2V",
        "colab": {
          "base_uri": "https://localhost:8080/",
          "height": 35
        },
        "outputId": "2b98631c-e980-4ed1-ee2c-34c11ec992b5"
      },
      "source": [
        "# Code cell 15\n",
        "# Verify elevator_dict[-1]\n",
        "elevator_dict[-1]"
      ],
      "execution_count": null,
      "outputs": [
        {
          "output_type": "execute_result",
          "data": {
            "text/plain": [
              "'Parking'"
            ],
            "application/vnd.google.colaboratory.intrinsic+json": {
              "type": "string"
            }
          },
          "metadata": {},
          "execution_count": 55
        }
      ]
    },
    {
      "cell_type": "markdown",
      "metadata": {
        "id": "DXXKXxFv8A2V"
      },
      "source": [
        "14. Create an Elevator class. The constructor accepts the list of strings floor_types and the list of integers floor_numbers. The class implements the methods 'ask_which_floor' and 'go_to_floor'. The output of this methods should look as follows:\n",
        "```\n",
        "floor_types = ['Parking', 'Shops', 'Food Court', 'Offices']\n",
        "floors_numbers = range(-1,4)\n",
        "el = Elevator(floor_numbers, floor_types)\n",
        "el.go_to_floor(1)\n",
        "Going to Food Court floor!\n",
        "el.go_to_floor(-2)\n",
        "There is floor number -2 in this building.\n",
        "el.ask_which_floor('Offices')\n",
        "The floor Offices is the number: 2\n",
        "el.ask_which_floor('Swimming Pool')\n",
        "There is no Swimming Pool floor in this building.\n",
        "```"
      ]
    },
    {
      "cell_type": "code",
      "source": [
        "class Elevator:\n",
        "    def __init__(self, floor_numbers, floor_types): #attributes\n",
        "        self.floor_types = floor_types\n",
        "        self.floor_numbers = floor_numbers\n",
        "        self.floor_type_dict = dict(zip(floor_types, floor_numbers))\n",
        "\n",
        "    def go_to_floor(self, floor_number):\n",
        "        if floor_number in self.floor_numbers:\n",
        "            floor_type = [floor_type for floor_type, number in self.floor_type_dict.items() if number == floor_number][0]\n",
        "            print(f\"Going to {floor_type} floor!\")\n",
        "        else:\n",
        "            print(f\"There is no floor number {floor_number} in this building.\")\n",
        "\n",
        "    def ask_which_floor(self, floor_type):\n",
        "        if floor_type in self.floor_type_dict:\n",
        "            floor_number = self.floor_type_dict[floor_type]\n",
        "            print(f\"The floor {floor_type} is the number: {floor_number}\")\n",
        "        else:\n",
        "            print(f\"There is no {floor_type} floor in this building.\")\n",
        "\n",
        "floor_types = ['Parking', 'Shops', 'Food Court', 'Offices']\n",
        "floor_numbers = range(-1,4)\n",
        "\n",
        "el = Elevator(floor_numbers, floor_types)\n",
        "el.go_to_floor(1)\n",
        "el.go_to_floor(-2)\n",
        "el.ask_which_floor('Offices')\n",
        "el.ask_which_floor('Swimming Pool')"
      ],
      "metadata": {
        "colab": {
          "base_uri": "https://localhost:8080/"
        },
        "id": "v6eOe_LvtcT1",
        "outputId": "6c4db95e-d09e-47ef-851f-e73f70f899a6"
      },
      "execution_count": null,
      "outputs": [
        {
          "output_type": "stream",
          "name": "stdout",
          "text": [
            "Going to Food Court floor!\n",
            "There is floor number -2 in this building.\n",
            "The floor Offices is the number: 2\n",
            "There is no Swimming Pool floor in this building.\n"
          ]
        }
      ]
    },
    {
      "cell_type": "markdown",
      "metadata": {
        "id": "a--gPBSR8A2Z"
      },
      "source": [
        "### Good Job!"
      ]
    }
  ]
}